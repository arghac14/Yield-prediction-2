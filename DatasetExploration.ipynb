{
  "nbformat": 4,
  "nbformat_minor": 0,
  "metadata": {
    "colab": {
      "name": "DatasetExploration.ipynb",
      "provenance": [],
      "collapsed_sections": [],
      "include_colab_link": true
    },
    "kernelspec": {
      "display_name": "Python 3",
      "language": "python",
      "name": "python3"
    },
    "language_info": {
      "codemirror_mode": {
        "name": "ipython",
        "version": 3
      },
      "file_extension": ".py",
      "mimetype": "text/x-python",
      "name": "python",
      "nbconvert_exporter": "python",
      "pygments_lexer": "ipython3",
      "version": "3.7.3"
    }
  },
  "cells": [
    {
      "cell_type": "markdown",
      "metadata": {
        "id": "view-in-github",
        "colab_type": "text"
      },
      "source": [
        "<a href=\"https://colab.research.google.com/github/arghac14/Yield-prediction-2/blob/master/DatasetExploration.ipynb\" target=\"_parent\"><img src=\"https://colab.research.google.com/assets/colab-badge.svg\" alt=\"Open In Colab\"/></a>"
      ]
    },
    {
      "cell_type": "code",
      "metadata": {
        "colab_type": "code",
        "id": "H-YyDIQRFKgM",
        "colab": {}
      },
      "source": [
        "import numpy as np\n",
        "import pandas as pd"
      ],
      "execution_count": 0,
      "outputs": []
    },
    {
      "cell_type": "code",
      "metadata": {
        "colab_type": "code",
        "id": "joEtmOz2FUDv",
        "outputId": "f4c16d54-1cb9-47d0-9f1c-25bb5c9abb62",
        "colab": {
          "base_uri": "https://localhost:8080/",
          "height": 576
        }
      },
      "source": [
        "data={\n",
        "    'District':['Darjeeling','Jalpaiguri','Koch Bihar','Uttar Dinajpur','Dakshin Dinajpur','Maldah','Murshidabad','Nadia','Birbhum','Bardhaman','Bankura','Purulia','Hugli','Haora','North 24 Parganas','South 24 Parganas','Medinipur'],\n",
        "    'Rainfall':[174.9025,195.2306,177.3472,128.3008,124.4917,114.9917,117.4706,120.3923,115.0348,118.0904,117.6115,109.8540,128.4050,133.5379,134.0477,116.9631,130.8080],\n",
        "    'Temperature(avg)':[17.5,26.3,27.5,26.2,26.6,30.4,28.2,29.3,30.6,32.3,31.6,31.7,30.5,30.6,31.2,27.1,30.75],\n",
        "    'Humidity':[92,94,96,72,74,87,83,84,71,77,71,85,76,69,68,79,76],\n",
        "    'Area(sq km)':[3149,6227,3387,2320,2219,3733,5324,3927,4545,7024,6882,6259,3149,1467,4094,9960,4061],\n",
        "    'Soil_pH':[5.92,4.62,5.2,5.83,5.87,6.0,7.05,6.0,5.75,6.5,6.23,6.35,6.12,6.02,7.12,7.38,6.12],\n",
        "    'Cloud_Coverage':[0,75,75,0,0,25,0,0,50,63,50,0,74,74,0,75,75],\n",
        "    'Vapour_Pressure':[867.4,1007.8,1008.5,0,0,1008.5,0,0,1007.8,1004.8,1006.5,0,1006.6,1006.8,0,1007.3,1007.1],\n",
        "    'Yield_Rate(Kg/Hect)':[2098.58,2459.69,2376.35,2592.39,2829.67,3233.12,3081.66,2876.25,3262.04,3242.24,2701.24,2141.85,3053.53,2485.50,2873.51,2440.98,2717.67],#aman paddy\n",
        "    'Production':[56.945,433.939,515.777,466.273,462.884,457.341,686.341,273.137,1029.374,1361.138,794.716,597.889,580.845,176.630,401.623,794.541,546.260]\n",
        "}\n",
        "df=pd.DataFrame(data)\n",
        "df"
      ],
      "execution_count": 39,
      "outputs": [
        {
          "output_type": "execute_result",
          "data": {
            "text/html": [
              "<div>\n",
              "<style scoped>\n",
              "    .dataframe tbody tr th:only-of-type {\n",
              "        vertical-align: middle;\n",
              "    }\n",
              "\n",
              "    .dataframe tbody tr th {\n",
              "        vertical-align: top;\n",
              "    }\n",
              "\n",
              "    .dataframe thead th {\n",
              "        text-align: right;\n",
              "    }\n",
              "</style>\n",
              "<table border=\"1\" class=\"dataframe\">\n",
              "  <thead>\n",
              "    <tr style=\"text-align: right;\">\n",
              "      <th></th>\n",
              "      <th>District</th>\n",
              "      <th>Rainfall</th>\n",
              "      <th>Temperature(avg)</th>\n",
              "      <th>Humidity</th>\n",
              "      <th>Area(sq km)</th>\n",
              "      <th>Soil_pH</th>\n",
              "      <th>Cloud_Coverage</th>\n",
              "      <th>Vapour_Pressure</th>\n",
              "      <th>Yield_Rate(Kg/Hect)</th>\n",
              "      <th>Production</th>\n",
              "    </tr>\n",
              "  </thead>\n",
              "  <tbody>\n",
              "    <tr>\n",
              "      <th>0</th>\n",
              "      <td>Darjeeling</td>\n",
              "      <td>174.9025</td>\n",
              "      <td>17.50</td>\n",
              "      <td>92</td>\n",
              "      <td>3149</td>\n",
              "      <td>5.92</td>\n",
              "      <td>0</td>\n",
              "      <td>867.4</td>\n",
              "      <td>2098.58</td>\n",
              "      <td>56.945</td>\n",
              "    </tr>\n",
              "    <tr>\n",
              "      <th>1</th>\n",
              "      <td>Jalpaiguri</td>\n",
              "      <td>195.2306</td>\n",
              "      <td>26.30</td>\n",
              "      <td>94</td>\n",
              "      <td>6227</td>\n",
              "      <td>4.62</td>\n",
              "      <td>75</td>\n",
              "      <td>1007.8</td>\n",
              "      <td>2459.69</td>\n",
              "      <td>433.939</td>\n",
              "    </tr>\n",
              "    <tr>\n",
              "      <th>2</th>\n",
              "      <td>Koch Bihar</td>\n",
              "      <td>177.3472</td>\n",
              "      <td>27.50</td>\n",
              "      <td>96</td>\n",
              "      <td>3387</td>\n",
              "      <td>5.20</td>\n",
              "      <td>75</td>\n",
              "      <td>1008.5</td>\n",
              "      <td>2376.35</td>\n",
              "      <td>515.777</td>\n",
              "    </tr>\n",
              "    <tr>\n",
              "      <th>3</th>\n",
              "      <td>Uttar Dinajpur</td>\n",
              "      <td>128.3008</td>\n",
              "      <td>26.20</td>\n",
              "      <td>72</td>\n",
              "      <td>2320</td>\n",
              "      <td>5.83</td>\n",
              "      <td>0</td>\n",
              "      <td>0.0</td>\n",
              "      <td>2592.39</td>\n",
              "      <td>466.273</td>\n",
              "    </tr>\n",
              "    <tr>\n",
              "      <th>4</th>\n",
              "      <td>Dakshin Dinajpur</td>\n",
              "      <td>124.4917</td>\n",
              "      <td>26.60</td>\n",
              "      <td>74</td>\n",
              "      <td>2219</td>\n",
              "      <td>5.87</td>\n",
              "      <td>0</td>\n",
              "      <td>0.0</td>\n",
              "      <td>2829.67</td>\n",
              "      <td>462.884</td>\n",
              "    </tr>\n",
              "    <tr>\n",
              "      <th>5</th>\n",
              "      <td>Maldah</td>\n",
              "      <td>114.9917</td>\n",
              "      <td>30.40</td>\n",
              "      <td>87</td>\n",
              "      <td>3733</td>\n",
              "      <td>6.00</td>\n",
              "      <td>25</td>\n",
              "      <td>1008.5</td>\n",
              "      <td>3233.12</td>\n",
              "      <td>457.341</td>\n",
              "    </tr>\n",
              "    <tr>\n",
              "      <th>6</th>\n",
              "      <td>Murshidabad</td>\n",
              "      <td>117.4706</td>\n",
              "      <td>28.20</td>\n",
              "      <td>83</td>\n",
              "      <td>5324</td>\n",
              "      <td>7.05</td>\n",
              "      <td>0</td>\n",
              "      <td>0.0</td>\n",
              "      <td>3081.66</td>\n",
              "      <td>686.341</td>\n",
              "    </tr>\n",
              "    <tr>\n",
              "      <th>7</th>\n",
              "      <td>Nadia</td>\n",
              "      <td>120.3923</td>\n",
              "      <td>29.30</td>\n",
              "      <td>84</td>\n",
              "      <td>3927</td>\n",
              "      <td>6.00</td>\n",
              "      <td>0</td>\n",
              "      <td>0.0</td>\n",
              "      <td>2876.25</td>\n",
              "      <td>273.137</td>\n",
              "    </tr>\n",
              "    <tr>\n",
              "      <th>8</th>\n",
              "      <td>Birbhum</td>\n",
              "      <td>115.0348</td>\n",
              "      <td>30.60</td>\n",
              "      <td>71</td>\n",
              "      <td>4545</td>\n",
              "      <td>5.75</td>\n",
              "      <td>50</td>\n",
              "      <td>1007.8</td>\n",
              "      <td>3262.04</td>\n",
              "      <td>1029.374</td>\n",
              "    </tr>\n",
              "    <tr>\n",
              "      <th>9</th>\n",
              "      <td>Bardhaman</td>\n",
              "      <td>118.0904</td>\n",
              "      <td>32.30</td>\n",
              "      <td>77</td>\n",
              "      <td>7024</td>\n",
              "      <td>6.50</td>\n",
              "      <td>63</td>\n",
              "      <td>1004.8</td>\n",
              "      <td>3242.24</td>\n",
              "      <td>1361.138</td>\n",
              "    </tr>\n",
              "    <tr>\n",
              "      <th>10</th>\n",
              "      <td>Bankura</td>\n",
              "      <td>117.6115</td>\n",
              "      <td>31.60</td>\n",
              "      <td>71</td>\n",
              "      <td>6882</td>\n",
              "      <td>6.23</td>\n",
              "      <td>50</td>\n",
              "      <td>1006.5</td>\n",
              "      <td>2701.24</td>\n",
              "      <td>794.716</td>\n",
              "    </tr>\n",
              "    <tr>\n",
              "      <th>11</th>\n",
              "      <td>Purulia</td>\n",
              "      <td>109.8540</td>\n",
              "      <td>31.70</td>\n",
              "      <td>85</td>\n",
              "      <td>6259</td>\n",
              "      <td>6.35</td>\n",
              "      <td>0</td>\n",
              "      <td>0.0</td>\n",
              "      <td>2141.85</td>\n",
              "      <td>597.889</td>\n",
              "    </tr>\n",
              "    <tr>\n",
              "      <th>12</th>\n",
              "      <td>Hugli</td>\n",
              "      <td>128.4050</td>\n",
              "      <td>30.50</td>\n",
              "      <td>76</td>\n",
              "      <td>3149</td>\n",
              "      <td>6.12</td>\n",
              "      <td>74</td>\n",
              "      <td>1006.6</td>\n",
              "      <td>3053.53</td>\n",
              "      <td>580.845</td>\n",
              "    </tr>\n",
              "    <tr>\n",
              "      <th>13</th>\n",
              "      <td>Haora</td>\n",
              "      <td>133.5379</td>\n",
              "      <td>30.60</td>\n",
              "      <td>69</td>\n",
              "      <td>1467</td>\n",
              "      <td>6.02</td>\n",
              "      <td>74</td>\n",
              "      <td>1006.8</td>\n",
              "      <td>2485.50</td>\n",
              "      <td>176.630</td>\n",
              "    </tr>\n",
              "    <tr>\n",
              "      <th>14</th>\n",
              "      <td>North 24 Parganas</td>\n",
              "      <td>134.0477</td>\n",
              "      <td>31.20</td>\n",
              "      <td>68</td>\n",
              "      <td>4094</td>\n",
              "      <td>7.12</td>\n",
              "      <td>0</td>\n",
              "      <td>0.0</td>\n",
              "      <td>2873.51</td>\n",
              "      <td>401.623</td>\n",
              "    </tr>\n",
              "    <tr>\n",
              "      <th>15</th>\n",
              "      <td>South 24 Parganas</td>\n",
              "      <td>116.9631</td>\n",
              "      <td>27.10</td>\n",
              "      <td>79</td>\n",
              "      <td>9960</td>\n",
              "      <td>7.38</td>\n",
              "      <td>75</td>\n",
              "      <td>1007.3</td>\n",
              "      <td>2440.98</td>\n",
              "      <td>794.541</td>\n",
              "    </tr>\n",
              "    <tr>\n",
              "      <th>16</th>\n",
              "      <td>Medinipur</td>\n",
              "      <td>130.8080</td>\n",
              "      <td>30.75</td>\n",
              "      <td>76</td>\n",
              "      <td>4061</td>\n",
              "      <td>6.12</td>\n",
              "      <td>75</td>\n",
              "      <td>1007.1</td>\n",
              "      <td>2717.67</td>\n",
              "      <td>546.260</td>\n",
              "    </tr>\n",
              "  </tbody>\n",
              "</table>\n",
              "</div>"
            ],
            "text/plain": [
              "             District  Rainfall  ...  Yield_Rate(Kg/Hect)  Production\n",
              "0          Darjeeling  174.9025  ...              2098.58      56.945\n",
              "1          Jalpaiguri  195.2306  ...              2459.69     433.939\n",
              "2          Koch Bihar  177.3472  ...              2376.35     515.777\n",
              "3      Uttar Dinajpur  128.3008  ...              2592.39     466.273\n",
              "4    Dakshin Dinajpur  124.4917  ...              2829.67     462.884\n",
              "5              Maldah  114.9917  ...              3233.12     457.341\n",
              "6         Murshidabad  117.4706  ...              3081.66     686.341\n",
              "7               Nadia  120.3923  ...              2876.25     273.137\n",
              "8             Birbhum  115.0348  ...              3262.04    1029.374\n",
              "9           Bardhaman  118.0904  ...              3242.24    1361.138\n",
              "10            Bankura  117.6115  ...              2701.24     794.716\n",
              "11            Purulia  109.8540  ...              2141.85     597.889\n",
              "12              Hugli  128.4050  ...              3053.53     580.845\n",
              "13              Haora  133.5379  ...              2485.50     176.630\n",
              "14  North 24 Parganas  134.0477  ...              2873.51     401.623\n",
              "15  South 24 Parganas  116.9631  ...              2440.98     794.541\n",
              "16          Medinipur  130.8080  ...              2717.67     546.260\n",
              "\n",
              "[17 rows x 10 columns]"
            ]
          },
          "metadata": {
            "tags": []
          },
          "execution_count": 39
        }
      ]
    },
    {
      "cell_type": "code",
      "metadata": {
        "id": "fE444au_JeXT",
        "colab_type": "code",
        "colab": {
          "base_uri": "https://localhost:8080/",
          "height": 576
        },
        "outputId": "faf14039-65ac-4cd4-81eb-e2743a2cee0b"
      },
      "source": [
        "# Data Cleaning\n",
        "\n",
        "df.loc[df.Vapour_Pressure==0,'Vapour_Pressure']=df.Vapour_Pressure.mean()\n",
        "df.loc[df.Cloud_Coverage==0,'Cloud_Coverage']=df.Cloud_Coverage.mean()\n",
        "df\n"
      ],
      "execution_count": 40,
      "outputs": [
        {
          "output_type": "execute_result",
          "data": {
            "text/html": [
              "<div>\n",
              "<style scoped>\n",
              "    .dataframe tbody tr th:only-of-type {\n",
              "        vertical-align: middle;\n",
              "    }\n",
              "\n",
              "    .dataframe tbody tr th {\n",
              "        vertical-align: top;\n",
              "    }\n",
              "\n",
              "    .dataframe thead th {\n",
              "        text-align: right;\n",
              "    }\n",
              "</style>\n",
              "<table border=\"1\" class=\"dataframe\">\n",
              "  <thead>\n",
              "    <tr style=\"text-align: right;\">\n",
              "      <th></th>\n",
              "      <th>District</th>\n",
              "      <th>Rainfall</th>\n",
              "      <th>Temperature(avg)</th>\n",
              "      <th>Humidity</th>\n",
              "      <th>Area(sq km)</th>\n",
              "      <th>Soil_pH</th>\n",
              "      <th>Cloud_Coverage</th>\n",
              "      <th>Vapour_Pressure</th>\n",
              "      <th>Yield_Rate(Kg/Hect)</th>\n",
              "      <th>Production</th>\n",
              "    </tr>\n",
              "  </thead>\n",
              "  <tbody>\n",
              "    <tr>\n",
              "      <th>0</th>\n",
              "      <td>Darjeeling</td>\n",
              "      <td>174.9025</td>\n",
              "      <td>17.50</td>\n",
              "      <td>92</td>\n",
              "      <td>3149</td>\n",
              "      <td>5.92</td>\n",
              "      <td>37.411765</td>\n",
              "      <td>867.400000</td>\n",
              "      <td>2098.58</td>\n",
              "      <td>56.945</td>\n",
              "    </tr>\n",
              "    <tr>\n",
              "      <th>1</th>\n",
              "      <td>Jalpaiguri</td>\n",
              "      <td>195.2306</td>\n",
              "      <td>26.30</td>\n",
              "      <td>94</td>\n",
              "      <td>6227</td>\n",
              "      <td>4.62</td>\n",
              "      <td>75.000000</td>\n",
              "      <td>1007.800000</td>\n",
              "      <td>2459.69</td>\n",
              "      <td>433.939</td>\n",
              "    </tr>\n",
              "    <tr>\n",
              "      <th>2</th>\n",
              "      <td>Koch Bihar</td>\n",
              "      <td>177.3472</td>\n",
              "      <td>27.50</td>\n",
              "      <td>96</td>\n",
              "      <td>3387</td>\n",
              "      <td>5.20</td>\n",
              "      <td>75.000000</td>\n",
              "      <td>1008.500000</td>\n",
              "      <td>2376.35</td>\n",
              "      <td>515.777</td>\n",
              "    </tr>\n",
              "    <tr>\n",
              "      <th>3</th>\n",
              "      <td>Uttar Dinajpur</td>\n",
              "      <td>128.3008</td>\n",
              "      <td>26.20</td>\n",
              "      <td>72</td>\n",
              "      <td>2320</td>\n",
              "      <td>5.83</td>\n",
              "      <td>37.411765</td>\n",
              "      <td>643.476471</td>\n",
              "      <td>2592.39</td>\n",
              "      <td>466.273</td>\n",
              "    </tr>\n",
              "    <tr>\n",
              "      <th>4</th>\n",
              "      <td>Dakshin Dinajpur</td>\n",
              "      <td>124.4917</td>\n",
              "      <td>26.60</td>\n",
              "      <td>74</td>\n",
              "      <td>2219</td>\n",
              "      <td>5.87</td>\n",
              "      <td>37.411765</td>\n",
              "      <td>643.476471</td>\n",
              "      <td>2829.67</td>\n",
              "      <td>462.884</td>\n",
              "    </tr>\n",
              "    <tr>\n",
              "      <th>5</th>\n",
              "      <td>Maldah</td>\n",
              "      <td>114.9917</td>\n",
              "      <td>30.40</td>\n",
              "      <td>87</td>\n",
              "      <td>3733</td>\n",
              "      <td>6.00</td>\n",
              "      <td>25.000000</td>\n",
              "      <td>1008.500000</td>\n",
              "      <td>3233.12</td>\n",
              "      <td>457.341</td>\n",
              "    </tr>\n",
              "    <tr>\n",
              "      <th>6</th>\n",
              "      <td>Murshidabad</td>\n",
              "      <td>117.4706</td>\n",
              "      <td>28.20</td>\n",
              "      <td>83</td>\n",
              "      <td>5324</td>\n",
              "      <td>7.05</td>\n",
              "      <td>37.411765</td>\n",
              "      <td>643.476471</td>\n",
              "      <td>3081.66</td>\n",
              "      <td>686.341</td>\n",
              "    </tr>\n",
              "    <tr>\n",
              "      <th>7</th>\n",
              "      <td>Nadia</td>\n",
              "      <td>120.3923</td>\n",
              "      <td>29.30</td>\n",
              "      <td>84</td>\n",
              "      <td>3927</td>\n",
              "      <td>6.00</td>\n",
              "      <td>37.411765</td>\n",
              "      <td>643.476471</td>\n",
              "      <td>2876.25</td>\n",
              "      <td>273.137</td>\n",
              "    </tr>\n",
              "    <tr>\n",
              "      <th>8</th>\n",
              "      <td>Birbhum</td>\n",
              "      <td>115.0348</td>\n",
              "      <td>30.60</td>\n",
              "      <td>71</td>\n",
              "      <td>4545</td>\n",
              "      <td>5.75</td>\n",
              "      <td>50.000000</td>\n",
              "      <td>1007.800000</td>\n",
              "      <td>3262.04</td>\n",
              "      <td>1029.374</td>\n",
              "    </tr>\n",
              "    <tr>\n",
              "      <th>9</th>\n",
              "      <td>Bardhaman</td>\n",
              "      <td>118.0904</td>\n",
              "      <td>32.30</td>\n",
              "      <td>77</td>\n",
              "      <td>7024</td>\n",
              "      <td>6.50</td>\n",
              "      <td>63.000000</td>\n",
              "      <td>1004.800000</td>\n",
              "      <td>3242.24</td>\n",
              "      <td>1361.138</td>\n",
              "    </tr>\n",
              "    <tr>\n",
              "      <th>10</th>\n",
              "      <td>Bankura</td>\n",
              "      <td>117.6115</td>\n",
              "      <td>31.60</td>\n",
              "      <td>71</td>\n",
              "      <td>6882</td>\n",
              "      <td>6.23</td>\n",
              "      <td>50.000000</td>\n",
              "      <td>1006.500000</td>\n",
              "      <td>2701.24</td>\n",
              "      <td>794.716</td>\n",
              "    </tr>\n",
              "    <tr>\n",
              "      <th>11</th>\n",
              "      <td>Purulia</td>\n",
              "      <td>109.8540</td>\n",
              "      <td>31.70</td>\n",
              "      <td>85</td>\n",
              "      <td>6259</td>\n",
              "      <td>6.35</td>\n",
              "      <td>37.411765</td>\n",
              "      <td>643.476471</td>\n",
              "      <td>2141.85</td>\n",
              "      <td>597.889</td>\n",
              "    </tr>\n",
              "    <tr>\n",
              "      <th>12</th>\n",
              "      <td>Hugli</td>\n",
              "      <td>128.4050</td>\n",
              "      <td>30.50</td>\n",
              "      <td>76</td>\n",
              "      <td>3149</td>\n",
              "      <td>6.12</td>\n",
              "      <td>74.000000</td>\n",
              "      <td>1006.600000</td>\n",
              "      <td>3053.53</td>\n",
              "      <td>580.845</td>\n",
              "    </tr>\n",
              "    <tr>\n",
              "      <th>13</th>\n",
              "      <td>Haora</td>\n",
              "      <td>133.5379</td>\n",
              "      <td>30.60</td>\n",
              "      <td>69</td>\n",
              "      <td>1467</td>\n",
              "      <td>6.02</td>\n",
              "      <td>74.000000</td>\n",
              "      <td>1006.800000</td>\n",
              "      <td>2485.50</td>\n",
              "      <td>176.630</td>\n",
              "    </tr>\n",
              "    <tr>\n",
              "      <th>14</th>\n",
              "      <td>North 24 Parganas</td>\n",
              "      <td>134.0477</td>\n",
              "      <td>31.20</td>\n",
              "      <td>68</td>\n",
              "      <td>4094</td>\n",
              "      <td>7.12</td>\n",
              "      <td>37.411765</td>\n",
              "      <td>643.476471</td>\n",
              "      <td>2873.51</td>\n",
              "      <td>401.623</td>\n",
              "    </tr>\n",
              "    <tr>\n",
              "      <th>15</th>\n",
              "      <td>South 24 Parganas</td>\n",
              "      <td>116.9631</td>\n",
              "      <td>27.10</td>\n",
              "      <td>79</td>\n",
              "      <td>9960</td>\n",
              "      <td>7.38</td>\n",
              "      <td>75.000000</td>\n",
              "      <td>1007.300000</td>\n",
              "      <td>2440.98</td>\n",
              "      <td>794.541</td>\n",
              "    </tr>\n",
              "    <tr>\n",
              "      <th>16</th>\n",
              "      <td>Medinipur</td>\n",
              "      <td>130.8080</td>\n",
              "      <td>30.75</td>\n",
              "      <td>76</td>\n",
              "      <td>4061</td>\n",
              "      <td>6.12</td>\n",
              "      <td>75.000000</td>\n",
              "      <td>1007.100000</td>\n",
              "      <td>2717.67</td>\n",
              "      <td>546.260</td>\n",
              "    </tr>\n",
              "  </tbody>\n",
              "</table>\n",
              "</div>"
            ],
            "text/plain": [
              "             District  Rainfall  ...  Yield_Rate(Kg/Hect)  Production\n",
              "0          Darjeeling  174.9025  ...              2098.58      56.945\n",
              "1          Jalpaiguri  195.2306  ...              2459.69     433.939\n",
              "2          Koch Bihar  177.3472  ...              2376.35     515.777\n",
              "3      Uttar Dinajpur  128.3008  ...              2592.39     466.273\n",
              "4    Dakshin Dinajpur  124.4917  ...              2829.67     462.884\n",
              "5              Maldah  114.9917  ...              3233.12     457.341\n",
              "6         Murshidabad  117.4706  ...              3081.66     686.341\n",
              "7               Nadia  120.3923  ...              2876.25     273.137\n",
              "8             Birbhum  115.0348  ...              3262.04    1029.374\n",
              "9           Bardhaman  118.0904  ...              3242.24    1361.138\n",
              "10            Bankura  117.6115  ...              2701.24     794.716\n",
              "11            Purulia  109.8540  ...              2141.85     597.889\n",
              "12              Hugli  128.4050  ...              3053.53     580.845\n",
              "13              Haora  133.5379  ...              2485.50     176.630\n",
              "14  North 24 Parganas  134.0477  ...              2873.51     401.623\n",
              "15  South 24 Parganas  116.9631  ...              2440.98     794.541\n",
              "16          Medinipur  130.8080  ...              2717.67     546.260\n",
              "\n",
              "[17 rows x 10 columns]"
            ]
          },
          "metadata": {
            "tags": []
          },
          "execution_count": 40
        }
      ]
    },
    {
      "cell_type": "markdown",
      "metadata": {
        "id": "KS_1J76ZKqrI",
        "colab_type": "text"
      },
      "source": [
        "## Showing correlation between dependent and independent variables"
      ]
    },
    {
      "cell_type": "code",
      "metadata": {
        "id": "y0bzzQ-IKr2_",
        "colab_type": "code",
        "colab": {}
      },
      "source": [
        "import matplotlib.pyplot as plt\n",
        "%matplotlib inline\n",
        "import seaborn as sb"
      ],
      "execution_count": 0,
      "outputs": []
    },
    {
      "cell_type": "code",
      "metadata": {
        "id": "QRO4SCwDK7zf",
        "colab_type": "code",
        "colab": {
          "base_uri": "https://localhost:8080/",
          "height": 375
        },
        "outputId": "14152532-9f5e-4924-f381-5bee65ee947a"
      },
      "source": [
        "sb.heatmap(df.corr(),annot=True)"
      ],
      "execution_count": 42,
      "outputs": [
        {
          "output_type": "execute_result",
          "data": {
            "text/plain": [
              "<matplotlib.axes._subplots.AxesSubplot at 0x7fa1689b73c8>"
            ]
          },
          "metadata": {
            "tags": []
          },
          "execution_count": 42
        },
        {
          "output_type": "display_data",
          "data": {
            "image/png": "[encoded data removed]",
            "text/plain": [
              "<Figure size 432x288 with 2 Axes>"
            ]
          },
          "metadata": {
            "tags": []
          }
        }
      ]
    },
    {
      "cell_type": "code",
      "metadata": {
        "id": "-qUZ_-gIMxzl",
        "colab_type": "code",
        "colab": {
          "base_uri": "https://localhost:8080/",
          "height": 295
        },
        "outputId": "9c8312d2-ea3d-442d-9c6e-bb84167db927"
      },
      "source": [
        "plt.scatter(df['Area(sq km)'],df['Production'],color='red')\n",
        "plt.title(\"Area Vs Production\")\n",
        "plt.xlabel(\"Area\")\n",
        "plt.ylabel(\"Production\")\n",
        "plt.grid()\n",
        "plt.show()"
      ],
      "execution_count": 43,
      "outputs": [
        {
          "output_type": "display_data",
          "data": {
            "image/png": "[encoded data removed]",
            "text/plain": [
              "<Figure size 432x288 with 1 Axes>"
            ]
          },
          "metadata": {
            "tags": []
          }
        }
      ]
    },
    {
      "cell_type": "code",
      "metadata": {
        "id": "RnU3o7V7Nh2I",
        "colab_type": "code",
        "colab": {
          "base_uri": "https://localhost:8080/",
          "height": 295
        },
        "outputId": "eeea7da6-a614-4549-c356-f66078741b64"
      },
      "source": [
        "plt.scatter(df['Rainfall'],df['Production'],color='green')\n",
        "plt.title(\"Precipitation Vs Production\")\n",
        "plt.xlabel(\"Precipitation\")\n",
        "plt.ylabel(\"Production\")\n",
        "plt.grid()\n",
        "plt.show()"
      ],
      "execution_count": 45,
      "outputs": [
        {
          "output_type": "display_data",
          "data": {
            "image/png": "[encoded data removed]",
            "text/plain": [
              "<Figure size 432x288 with 1 Axes>"
            ]
          },
          "metadata": {
            "tags": []
          }
        }
      ]
    },
    {
      "cell_type": "code",
      "metadata": {
        "id": "5zTB87IVRp8o",
        "colab_type": "code",
        "colab": {
          "base_uri": "https://localhost:8080/",
          "height": 295
        },
        "outputId": "a9b6665b-f8a3-48eb-918a-5545302511ef"
      },
      "source": [
        "plt.scatter(df['Humidity'],df['Production'],color='blue')\n",
        "plt.title(\"Humidity Vs Production\")\n",
        "plt.xlabel(\"Humidity\")\n",
        "plt.ylabel(\"Production\")\n",
        "plt.grid()\n",
        "plt.show()"
      ],
      "execution_count": 47,
      "outputs": [
        {
          "output_type": "display_data",
          "data": {
            "image/png": "[encoded data removed]",
            "text/plain": [
              "<Figure size 432x288 with 1 Axes>"
            ]
          },
          "metadata": {
            "tags": []
          }
        }
      ]
    },
    {
      "cell_type": "code",
      "metadata": {
        "id": "WaQXChkmSyW9",
        "colab_type": "code",
        "colab": {
          "base_uri": "https://localhost:8080/",
          "height": 295
        },
        "outputId": "76472b79-aabd-4ab2-ec48-92b03f276594"
      },
      "source": [
        "plt.scatter(df['Soil_pH'],df['Production'],color='red')\n",
        "plt.title(\"Soil_pH Vs Production\")\n",
        "plt.xlabel(\"Soil_pH\")\n",
        "plt.ylabel(\"Production\")\n",
        "plt.grid()\n",
        "plt.show()"
      ],
      "execution_count": 48,
      "outputs": [
        {
          "output_type": "display_data",
          "data": {
            "image/png": "[encoded data removed]",
            "text/plain": [
              "<Figure size 432x288 with 1 Axes>"
            ]
          },
          "metadata": {
            "tags": []
          }
        }
      ]
    },
    {
      "cell_type": "code",
      "metadata": {
        "id": "WLXIOckYTEpr",
        "colab_type": "code",
        "colab": {
          "base_uri": "https://localhost:8080/",
          "height": 295
        },
        "outputId": "78685258-ee92-4426-b386-c5e3db7046de"
      },
      "source": [
        "plt.scatter(df['Cloud_Coverage'],df['Production'],color='red')\n",
        "plt.title(\"Cloud_Coverage Vs Production\")\n",
        "plt.xlabel(\"Cloud_Coverage\")\n",
        "plt.ylabel(\"Production\")\n",
        "plt.grid()\n",
        "plt.show()"
      ],
      "execution_count": 50,
      "outputs": [
        {
          "output_type": "display_data",
          "data": {
            "image/png": "[encoded data removed]",
            "text/plain": [
              "<Figure size 432x288 with 1 Axes>"
            ]
          },
          "metadata": {
            "tags": []
          }
        }
      ]
    },
    {
      "cell_type": "code",
      "metadata": {
        "id": "ZzaY8YG3TOwo",
        "colab_type": "code",
        "colab": {
          "base_uri": "https://localhost:8080/",
          "height": 295
        },
        "outputId": "bf2ff8d0-e42d-428a-e025-8a41de04beab"
      },
      "source": [
        "plt.scatter(df['Vapour_Pressure'],df['Production'],color='red')\n",
        "plt.title(\"Vapour_Pressure Vs Production\")\n",
        "plt.xlabel(\"Vapour_Pressure\")\n",
        "plt.ylabel(\"Production\")\n",
        "plt.grid()\n",
        "plt.show()"
      ],
      "execution_count": 51,
      "outputs": [
        {
          "output_type": "display_data",
          "data": {
            "image/png": "[encoded data removed]",
            "text/plain": [
              "<Figure size 432x288 with 1 Axes>"
            ]
          },
          "metadata": {
            "tags": []
          }
        }
      ]
    }
  ]
}