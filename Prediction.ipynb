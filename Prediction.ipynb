{
  "nbformat": 4,
  "nbformat_minor": 0,
  "metadata": {
    "colab": {
      "name": "Prediction.ipynb",
      "provenance": [],
      "collapsed_sections": [],
      "include_colab_link": true
    },
    "kernelspec": {
      "display_name": "Python 3",
      "language": "python",
      "name": "python3"
    },
    "language_info": {
      "codemirror_mode": {
        "name": "ipython",
        "version": 3
      },
      "file_extension": ".py",
      "mimetype": "text/x-python",
      "name": "python",
      "nbconvert_exporter": "python",
      "pygments_lexer": "ipython3",
      "version": "3.7.3"
    }
  },
  "cells": [
    {
      "cell_type": "markdown",
      "metadata": {
        "id": "view-in-github",
        "colab_type": "text"
      },
      "source": [
        "<a href=\"https://colab.research.google.com/github/arghac14/Yield-prediction-2/blob/master/Prediction.ipynb\" target=\"_parent\"><img src=\"https://colab.research.google.com/assets/colab-badge.svg\" alt=\"Open In Colab\"/></a>"
      ]
    },
    {
      "cell_type": "code",
      "metadata": {
        "colab_type": "code",
        "id": "H-YyDIQRFKgM",
        "colab": {}
      },
      "source": [
        "import numpy as np\n",
        "import pandas as pd"
      ],
      "execution_count": 0,
      "outputs": []
    },
    {
      "cell_type": "code",
      "metadata": {
        "colab_type": "code",
        "id": "joEtmOz2FUDv",
        "outputId": "f02adce8-e4b8-4e88-e7f3-1cf27e78c4b7",
        "colab": {
          "base_uri": "https://localhost:8080/",
          "height": 557
        }
      },
      "source": [
        "data={\n",
        "    'District':['Darjeeling','Jalpaiguri','Koch Bihar','Uttar Dinajpur','Dakshin Dinajpur','Maldah','Murshidabad','Nadia','Birbhum','Bardhaman','Bankura','Purulia','Hugli','Haora','North 24 Parganas','South 24 Parganas','Medinipur'],\n",
        "    'Rainfall':[174.9025,195.2306,177.3472,128.3008,124.4917,114.9917,117.4706,120.3923,115.0348,118.0904,117.6115,109.8540,128.4050,133.5379,134.0477,116.9631,130.8080],\n",
        "    'Temperature(avg)':[17.5,26.3,27.5,26.2,26.6,30.4,28.2,29.3,30.6,32.3,31.6,31.7,30.5,30.6,31.2,27.1,30.75],\n",
        "    'Humidity':[92,94,96,72,74,87,83,84,71,77,71,85,76,69,68,79,76],\n",
        "    'Area(sq km)':[3149,6227,3387,2320,2219,3733,5324,3927,4545,7024,6882,6259,3149,1467,4094,9960,4061],\n",
        "    'Agricultural_Area(hectares)':[142229.953,335635.3,248342.185,277469.808,175086.201,211391.34,402036.745,289866.01,317587.072,458387.872,344686.998,310320.416,220618.816,82234.868,260130.652,372843.03,291099.996],\n",
        "    'Soil_pH':[5.92,4.62,5.2,5.83,5.87,6.0,7.05,6.0,5.75,6.5,6.23,6.35,6.12,6.02,7.12,7.38,6.12],\n",
        "    'Cloud_Coverage':[0,75,75,0,0,25,0,0,50,63,50,0,74,74,0,75,75],\n",
        "    'Vapour_Pressure':[867.4,1007.8,1008.5,0,0,1008.5,0,0,1007.8,1004.8,1006.5,0,1006.6,1006.8,0,1007.3,1007.1],\n",
        "    #'Yield_Rate(Kg/Hect)':[2098.58,2459.69,2376.35,2592.39,2829.67,3233.12,3081.66,2876.25,3262.04,3242.24,2701.24,2141.85,3053.53,2485.50,2873.51,2440.98,2717.67],#aman paddy\n",
        "    'Production':[56.945,433.939,515.777,420.273,442.884,557.341,516.541,573.137,529.374,861.138,794.716,697.889,580.845,576.630,601.623,594.541,546.260]\n",
        "}\n",
        "df=pd.DataFrame(data)\n",
        "df"
      ],
      "execution_count": 199,
      "outputs": [
        {
          "output_type": "execute_result",
          "data": {
            "text/html": [
              "<div>\n",
              "<style scoped>\n",
              "    .dataframe tbody tr th:only-of-type {\n",
              "        vertical-align: middle;\n",
              "    }\n",
              "\n",
              "    .dataframe tbody tr th {\n",
              "        vertical-align: top;\n",
              "    }\n",
              "\n",
              "    .dataframe thead th {\n",
              "        text-align: right;\n",
              "    }\n",
              "</style>\n",
              "<table border=\"1\" class=\"dataframe\">\n",
              "  <thead>\n",
              "    <tr style=\"text-align: right;\">\n",
              "      <th></th>\n",
              "      <th>District</th>\n",
              "      <th>Rainfall</th>\n",
              "      <th>Temperature(avg)</th>\n",
              "      <th>Humidity</th>\n",
              "      <th>Area(sq km)</th>\n",
              "      <th>Agricultural_Area(hectares)</th>\n",
              "      <th>Soil_pH</th>\n",
              "      <th>Cloud_Coverage</th>\n",
              "      <th>Vapour_Pressure</th>\n",
              "      <th>Production</th>\n",
              "    </tr>\n",
              "  </thead>\n",
              "  <tbody>\n",
              "    <tr>\n",
              "      <th>0</th>\n",
              "      <td>Darjeeling</td>\n",
              "      <td>174.9025</td>\n",
              "      <td>17.50</td>\n",
              "      <td>92</td>\n",
              "      <td>3149</td>\n",
              "      <td>142229.953</td>\n",
              "      <td>5.92</td>\n",
              "      <td>0</td>\n",
              "      <td>867.4</td>\n",
              "      <td>56.945</td>\n",
              "    </tr>\n",
              "    <tr>\n",
              "      <th>1</th>\n",
              "      <td>Jalpaiguri</td>\n",
              "      <td>195.2306</td>\n",
              "      <td>26.30</td>\n",
              "      <td>94</td>\n",
              "      <td>6227</td>\n",
              "      <td>335635.300</td>\n",
              "      <td>4.62</td>\n",
              "      <td>75</td>\n",
              "      <td>1007.8</td>\n",
              "      <td>433.939</td>\n",
              "    </tr>\n",
              "    <tr>\n",
              "      <th>2</th>\n",
              "      <td>Koch Bihar</td>\n",
              "      <td>177.3472</td>\n",
              "      <td>27.50</td>\n",
              "      <td>96</td>\n",
              "      <td>3387</td>\n",
              "      <td>248342.185</td>\n",
              "      <td>5.20</td>\n",
              "      <td>75</td>\n",
              "      <td>1008.5</td>\n",
              "      <td>515.777</td>\n",
              "    </tr>\n",
              "    <tr>\n",
              "      <th>3</th>\n",
              "      <td>Uttar Dinajpur</td>\n",
              "      <td>128.3008</td>\n",
              "      <td>26.20</td>\n",
              "      <td>72</td>\n",
              "      <td>2320</td>\n",
              "      <td>277469.808</td>\n",
              "      <td>5.83</td>\n",
              "      <td>0</td>\n",
              "      <td>0.0</td>\n",
              "      <td>420.273</td>\n",
              "    </tr>\n",
              "    <tr>\n",
              "      <th>4</th>\n",
              "      <td>Dakshin Dinajpur</td>\n",
              "      <td>124.4917</td>\n",
              "      <td>26.60</td>\n",
              "      <td>74</td>\n",
              "      <td>2219</td>\n",
              "      <td>175086.201</td>\n",
              "      <td>5.87</td>\n",
              "      <td>0</td>\n",
              "      <td>0.0</td>\n",
              "      <td>442.884</td>\n",
              "    </tr>\n",
              "    <tr>\n",
              "      <th>5</th>\n",
              "      <td>Maldah</td>\n",
              "      <td>114.9917</td>\n",
              "      <td>30.40</td>\n",
              "      <td>87</td>\n",
              "      <td>3733</td>\n",
              "      <td>211391.340</td>\n",
              "      <td>6.00</td>\n",
              "      <td>25</td>\n",
              "      <td>1008.5</td>\n",
              "      <td>557.341</td>\n",
              "    </tr>\n",
              "    <tr>\n",
              "      <th>6</th>\n",
              "      <td>Murshidabad</td>\n",
              "      <td>117.4706</td>\n",
              "      <td>28.20</td>\n",
              "      <td>83</td>\n",
              "      <td>5324</td>\n",
              "      <td>402036.745</td>\n",
              "      <td>7.05</td>\n",
              "      <td>0</td>\n",
              "      <td>0.0</td>\n",
              "      <td>516.541</td>\n",
              "    </tr>\n",
              "    <tr>\n",
              "      <th>7</th>\n",
              "      <td>Nadia</td>\n",
              "      <td>120.3923</td>\n",
              "      <td>29.30</td>\n",
              "      <td>84</td>\n",
              "      <td>3927</td>\n",
              "      <td>289866.010</td>\n",
              "      <td>6.00</td>\n",
              "      <td>0</td>\n",
              "      <td>0.0</td>\n",
              "      <td>573.137</td>\n",
              "    </tr>\n",
              "    <tr>\n",
              "      <th>8</th>\n",
              "      <td>Birbhum</td>\n",
              "      <td>115.0348</td>\n",
              "      <td>30.60</td>\n",
              "      <td>71</td>\n",
              "      <td>4545</td>\n",
              "      <td>317587.072</td>\n",
              "      <td>5.75</td>\n",
              "      <td>50</td>\n",
              "      <td>1007.8</td>\n",
              "      <td>529.374</td>\n",
              "    </tr>\n",
              "    <tr>\n",
              "      <th>9</th>\n",
              "      <td>Bardhaman</td>\n",
              "      <td>118.0904</td>\n",
              "      <td>32.30</td>\n",
              "      <td>77</td>\n",
              "      <td>7024</td>\n",
              "      <td>458387.872</td>\n",
              "      <td>6.50</td>\n",
              "      <td>63</td>\n",
              "      <td>1004.8</td>\n",
              "      <td>861.138</td>\n",
              "    </tr>\n",
              "    <tr>\n",
              "      <th>10</th>\n",
              "      <td>Bankura</td>\n",
              "      <td>117.6115</td>\n",
              "      <td>31.60</td>\n",
              "      <td>71</td>\n",
              "      <td>6882</td>\n",
              "      <td>344686.998</td>\n",
              "      <td>6.23</td>\n",
              "      <td>50</td>\n",
              "      <td>1006.5</td>\n",
              "      <td>794.716</td>\n",
              "    </tr>\n",
              "    <tr>\n",
              "      <th>11</th>\n",
              "      <td>Purulia</td>\n",
              "      <td>109.8540</td>\n",
              "      <td>31.70</td>\n",
              "      <td>85</td>\n",
              "      <td>6259</td>\n",
              "      <td>310320.416</td>\n",
              "      <td>6.35</td>\n",
              "      <td>0</td>\n",
              "      <td>0.0</td>\n",
              "      <td>697.889</td>\n",
              "    </tr>\n",
              "    <tr>\n",
              "      <th>12</th>\n",
              "      <td>Hugli</td>\n",
              "      <td>128.4050</td>\n",
              "      <td>30.50</td>\n",
              "      <td>76</td>\n",
              "      <td>3149</td>\n",
              "      <td>220618.816</td>\n",
              "      <td>6.12</td>\n",
              "      <td>74</td>\n",
              "      <td>1006.6</td>\n",
              "      <td>580.845</td>\n",
              "    </tr>\n",
              "    <tr>\n",
              "      <th>13</th>\n",
              "      <td>Haora</td>\n",
              "      <td>133.5379</td>\n",
              "      <td>30.60</td>\n",
              "      <td>69</td>\n",
              "      <td>1467</td>\n",
              "      <td>82234.868</td>\n",
              "      <td>6.02</td>\n",
              "      <td>74</td>\n",
              "      <td>1006.8</td>\n",
              "      <td>576.630</td>\n",
              "    </tr>\n",
              "    <tr>\n",
              "      <th>14</th>\n",
              "      <td>North 24 Parganas</td>\n",
              "      <td>134.0477</td>\n",
              "      <td>31.20</td>\n",
              "      <td>68</td>\n",
              "      <td>4094</td>\n",
              "      <td>260130.652</td>\n",
              "      <td>7.12</td>\n",
              "      <td>0</td>\n",
              "      <td>0.0</td>\n",
              "      <td>601.623</td>\n",
              "    </tr>\n",
              "    <tr>\n",
              "      <th>15</th>\n",
              "      <td>South 24 Parganas</td>\n",
              "      <td>116.9631</td>\n",
              "      <td>27.10</td>\n",
              "      <td>79</td>\n",
              "      <td>9960</td>\n",
              "      <td>372843.030</td>\n",
              "      <td>7.38</td>\n",
              "      <td>75</td>\n",
              "      <td>1007.3</td>\n",
              "      <td>594.541</td>\n",
              "    </tr>\n",
              "    <tr>\n",
              "      <th>16</th>\n",
              "      <td>Medinipur</td>\n",
              "      <td>130.8080</td>\n",
              "      <td>30.75</td>\n",
              "      <td>76</td>\n",
              "      <td>4061</td>\n",
              "      <td>291099.996</td>\n",
              "      <td>6.12</td>\n",
              "      <td>75</td>\n",
              "      <td>1007.1</td>\n",
              "      <td>546.260</td>\n",
              "    </tr>\n",
              "  </tbody>\n",
              "</table>\n",
              "</div>"
            ],
            "text/plain": [
              "             District  Rainfall  ...  Vapour_Pressure  Production\n",
              "0          Darjeeling  174.9025  ...            867.4      56.945\n",
              "1          Jalpaiguri  195.2306  ...           1007.8     433.939\n",
              "2          Koch Bihar  177.3472  ...           1008.5     515.777\n",
              "3      Uttar Dinajpur  128.3008  ...              0.0     420.273\n",
              "4    Dakshin Dinajpur  124.4917  ...              0.0     442.884\n",
              "5              Maldah  114.9917  ...           1008.5     557.341\n",
              "6         Murshidabad  117.4706  ...              0.0     516.541\n",
              "7               Nadia  120.3923  ...              0.0     573.137\n",
              "8             Birbhum  115.0348  ...           1007.8     529.374\n",
              "9           Bardhaman  118.0904  ...           1004.8     861.138\n",
              "10            Bankura  117.6115  ...           1006.5     794.716\n",
              "11            Purulia  109.8540  ...              0.0     697.889\n",
              "12              Hugli  128.4050  ...           1006.6     580.845\n",
              "13              Haora  133.5379  ...           1006.8     576.630\n",
              "14  North 24 Parganas  134.0477  ...              0.0     601.623\n",
              "15  South 24 Parganas  116.9631  ...           1007.3     594.541\n",
              "16          Medinipur  130.8080  ...           1007.1     546.260\n",
              "\n",
              "[17 rows x 10 columns]"
            ]
          },
          "metadata": {
            "tags": []
          },
          "execution_count": 199
        }
      ]
    },
    {
      "cell_type": "code",
      "metadata": {
        "id": "fE444au_JeXT",
        "colab_type": "code",
        "outputId": "c5784c62-5867-4dc6-dd73-72178ae5c45c",
        "colab": {
          "base_uri": "https://localhost:8080/",
          "height": 557
        }
      },
      "source": [
        "# Data Cleaning\n",
        "\n",
        "df.loc[df.Vapour_Pressure==0,'Vapour_Pressure']=df.Vapour_Pressure.median()\n",
        "df.loc[df.Cloud_Coverage==0,'Cloud_Coverage']=df.Cloud_Coverage.median()\n",
        "df\n"
      ],
      "execution_count": 200,
      "outputs": [
        {
          "output_type": "execute_result",
          "data": {
            "text/html": [
              "<div>\n",
              "<style scoped>\n",
              "    .dataframe tbody tr th:only-of-type {\n",
              "        vertical-align: middle;\n",
              "    }\n",
              "\n",
              "    .dataframe tbody tr th {\n",
              "        vertical-align: top;\n",
              "    }\n",
              "\n",
              "    .dataframe thead th {\n",
              "        text-align: right;\n",
              "    }\n",
              "</style>\n",
              "<table border=\"1\" class=\"dataframe\">\n",
              "  <thead>\n",
              "    <tr style=\"text-align: right;\">\n",
              "      <th></th>\n",
              "      <th>District</th>\n",
              "      <th>Rainfall</th>\n",
              "      <th>Temperature(avg)</th>\n",
              "      <th>Humidity</th>\n",
              "      <th>Area(sq km)</th>\n",
              "      <th>Agricultural_Area(hectares)</th>\n",
              "      <th>Soil_pH</th>\n",
              "      <th>Cloud_Coverage</th>\n",
              "      <th>Vapour_Pressure</th>\n",
              "      <th>Production</th>\n",
              "    </tr>\n",
              "  </thead>\n",
              "  <tbody>\n",
              "    <tr>\n",
              "      <th>0</th>\n",
              "      <td>Darjeeling</td>\n",
              "      <td>174.9025</td>\n",
              "      <td>17.50</td>\n",
              "      <td>92</td>\n",
              "      <td>3149</td>\n",
              "      <td>142229.953</td>\n",
              "      <td>5.92</td>\n",
              "      <td>50.0</td>\n",
              "      <td>867.4</td>\n",
              "      <td>56.945</td>\n",
              "    </tr>\n",
              "    <tr>\n",
              "      <th>1</th>\n",
              "      <td>Jalpaiguri</td>\n",
              "      <td>195.2306</td>\n",
              "      <td>26.30</td>\n",
              "      <td>94</td>\n",
              "      <td>6227</td>\n",
              "      <td>335635.300</td>\n",
              "      <td>4.62</td>\n",
              "      <td>75.0</td>\n",
              "      <td>1007.8</td>\n",
              "      <td>433.939</td>\n",
              "    </tr>\n",
              "    <tr>\n",
              "      <th>2</th>\n",
              "      <td>Koch Bihar</td>\n",
              "      <td>177.3472</td>\n",
              "      <td>27.50</td>\n",
              "      <td>96</td>\n",
              "      <td>3387</td>\n",
              "      <td>248342.185</td>\n",
              "      <td>5.20</td>\n",
              "      <td>75.0</td>\n",
              "      <td>1008.5</td>\n",
              "      <td>515.777</td>\n",
              "    </tr>\n",
              "    <tr>\n",
              "      <th>3</th>\n",
              "      <td>Uttar Dinajpur</td>\n",
              "      <td>128.3008</td>\n",
              "      <td>26.20</td>\n",
              "      <td>72</td>\n",
              "      <td>2320</td>\n",
              "      <td>277469.808</td>\n",
              "      <td>5.83</td>\n",
              "      <td>50.0</td>\n",
              "      <td>1006.5</td>\n",
              "      <td>420.273</td>\n",
              "    </tr>\n",
              "    <tr>\n",
              "      <th>4</th>\n",
              "      <td>Dakshin Dinajpur</td>\n",
              "      <td>124.4917</td>\n",
              "      <td>26.60</td>\n",
              "      <td>74</td>\n",
              "      <td>2219</td>\n",
              "      <td>175086.201</td>\n",
              "      <td>5.87</td>\n",
              "      <td>50.0</td>\n",
              "      <td>1006.5</td>\n",
              "      <td>442.884</td>\n",
              "    </tr>\n",
              "    <tr>\n",
              "      <th>5</th>\n",
              "      <td>Maldah</td>\n",
              "      <td>114.9917</td>\n",
              "      <td>30.40</td>\n",
              "      <td>87</td>\n",
              "      <td>3733</td>\n",
              "      <td>211391.340</td>\n",
              "      <td>6.00</td>\n",
              "      <td>25.0</td>\n",
              "      <td>1008.5</td>\n",
              "      <td>557.341</td>\n",
              "    </tr>\n",
              "    <tr>\n",
              "      <th>6</th>\n",
              "      <td>Murshidabad</td>\n",
              "      <td>117.4706</td>\n",
              "      <td>28.20</td>\n",
              "      <td>83</td>\n",
              "      <td>5324</td>\n",
              "      <td>402036.745</td>\n",
              "      <td>7.05</td>\n",
              "      <td>50.0</td>\n",
              "      <td>1006.5</td>\n",
              "      <td>516.541</td>\n",
              "    </tr>\n",
              "    <tr>\n",
              "      <th>7</th>\n",
              "      <td>Nadia</td>\n",
              "      <td>120.3923</td>\n",
              "      <td>29.30</td>\n",
              "      <td>84</td>\n",
              "      <td>3927</td>\n",
              "      <td>289866.010</td>\n",
              "      <td>6.00</td>\n",
              "      <td>50.0</td>\n",
              "      <td>1006.5</td>\n",
              "      <td>573.137</td>\n",
              "    </tr>\n",
              "    <tr>\n",
              "      <th>8</th>\n",
              "      <td>Birbhum</td>\n",
              "      <td>115.0348</td>\n",
              "      <td>30.60</td>\n",
              "      <td>71</td>\n",
              "      <td>4545</td>\n",
              "      <td>317587.072</td>\n",
              "      <td>5.75</td>\n",
              "      <td>50.0</td>\n",
              "      <td>1007.8</td>\n",
              "      <td>529.374</td>\n",
              "    </tr>\n",
              "    <tr>\n",
              "      <th>9</th>\n",
              "      <td>Bardhaman</td>\n",
              "      <td>118.0904</td>\n",
              "      <td>32.30</td>\n",
              "      <td>77</td>\n",
              "      <td>7024</td>\n",
              "      <td>458387.872</td>\n",
              "      <td>6.50</td>\n",
              "      <td>63.0</td>\n",
              "      <td>1004.8</td>\n",
              "      <td>861.138</td>\n",
              "    </tr>\n",
              "    <tr>\n",
              "      <th>10</th>\n",
              "      <td>Bankura</td>\n",
              "      <td>117.6115</td>\n",
              "      <td>31.60</td>\n",
              "      <td>71</td>\n",
              "      <td>6882</td>\n",
              "      <td>344686.998</td>\n",
              "      <td>6.23</td>\n",
              "      <td>50.0</td>\n",
              "      <td>1006.5</td>\n",
              "      <td>794.716</td>\n",
              "    </tr>\n",
              "    <tr>\n",
              "      <th>11</th>\n",
              "      <td>Purulia</td>\n",
              "      <td>109.8540</td>\n",
              "      <td>31.70</td>\n",
              "      <td>85</td>\n",
              "      <td>6259</td>\n",
              "      <td>310320.416</td>\n",
              "      <td>6.35</td>\n",
              "      <td>50.0</td>\n",
              "      <td>1006.5</td>\n",
              "      <td>697.889</td>\n",
              "    </tr>\n",
              "    <tr>\n",
              "      <th>12</th>\n",
              "      <td>Hugli</td>\n",
              "      <td>128.4050</td>\n",
              "      <td>30.50</td>\n",
              "      <td>76</td>\n",
              "      <td>3149</td>\n",
              "      <td>220618.816</td>\n",
              "      <td>6.12</td>\n",
              "      <td>74.0</td>\n",
              "      <td>1006.6</td>\n",
              "      <td>580.845</td>\n",
              "    </tr>\n",
              "    <tr>\n",
              "      <th>13</th>\n",
              "      <td>Haora</td>\n",
              "      <td>133.5379</td>\n",
              "      <td>30.60</td>\n",
              "      <td>69</td>\n",
              "      <td>1467</td>\n",
              "      <td>82234.868</td>\n",
              "      <td>6.02</td>\n",
              "      <td>74.0</td>\n",
              "      <td>1006.8</td>\n",
              "      <td>576.630</td>\n",
              "    </tr>\n",
              "    <tr>\n",
              "      <th>14</th>\n",
              "      <td>North 24 Parganas</td>\n",
              "      <td>134.0477</td>\n",
              "      <td>31.20</td>\n",
              "      <td>68</td>\n",
              "      <td>4094</td>\n",
              "      <td>260130.652</td>\n",
              "      <td>7.12</td>\n",
              "      <td>50.0</td>\n",
              "      <td>1006.5</td>\n",
              "      <td>601.623</td>\n",
              "    </tr>\n",
              "    <tr>\n",
              "      <th>15</th>\n",
              "      <td>South 24 Parganas</td>\n",
              "      <td>116.9631</td>\n",
              "      <td>27.10</td>\n",
              "      <td>79</td>\n",
              "      <td>9960</td>\n",
              "      <td>372843.030</td>\n",
              "      <td>7.38</td>\n",
              "      <td>75.0</td>\n",
              "      <td>1007.3</td>\n",
              "      <td>594.541</td>\n",
              "    </tr>\n",
              "    <tr>\n",
              "      <th>16</th>\n",
              "      <td>Medinipur</td>\n",
              "      <td>130.8080</td>\n",
              "      <td>30.75</td>\n",
              "      <td>76</td>\n",
              "      <td>4061</td>\n",
              "      <td>291099.996</td>\n",
              "      <td>6.12</td>\n",
              "      <td>75.0</td>\n",
              "      <td>1007.1</td>\n",
              "      <td>546.260</td>\n",
              "    </tr>\n",
              "  </tbody>\n",
              "</table>\n",
              "</div>"
            ],
            "text/plain": [
              "             District  Rainfall  ...  Vapour_Pressure  Production\n",
              "0          Darjeeling  174.9025  ...            867.4      56.945\n",
              "1          Jalpaiguri  195.2306  ...           1007.8     433.939\n",
              "2          Koch Bihar  177.3472  ...           1008.5     515.777\n",
              "3      Uttar Dinajpur  128.3008  ...           1006.5     420.273\n",
              "4    Dakshin Dinajpur  124.4917  ...           1006.5     442.884\n",
              "5              Maldah  114.9917  ...           1008.5     557.341\n",
              "6         Murshidabad  117.4706  ...           1006.5     516.541\n",
              "7               Nadia  120.3923  ...           1006.5     573.137\n",
              "8             Birbhum  115.0348  ...           1007.8     529.374\n",
              "9           Bardhaman  118.0904  ...           1004.8     861.138\n",
              "10            Bankura  117.6115  ...           1006.5     794.716\n",
              "11            Purulia  109.8540  ...           1006.5     697.889\n",
              "12              Hugli  128.4050  ...           1006.6     580.845\n",
              "13              Haora  133.5379  ...           1006.8     576.630\n",
              "14  North 24 Parganas  134.0477  ...           1006.5     601.623\n",
              "15  South 24 Parganas  116.9631  ...           1007.3     594.541\n",
              "16          Medinipur  130.8080  ...           1007.1     546.260\n",
              "\n",
              "[17 rows x 10 columns]"
            ]
          },
          "metadata": {
            "tags": []
          },
          "execution_count": 200
        }
      ]
    },
    {
      "cell_type": "markdown",
      "metadata": {
        "id": "KS_1J76ZKqrI",
        "colab_type": "text"
      },
      "source": [
        "## Showing correlation between dependent and independent variables"
      ]
    },
    {
      "cell_type": "code",
      "metadata": {
        "id": "y0bzzQ-IKr2_",
        "colab_type": "code",
        "colab": {}
      },
      "source": [
        "import matplotlib.pyplot as plt\n",
        "%matplotlib inline\n",
        "import seaborn as sb"
      ],
      "execution_count": 0,
      "outputs": []
    },
    {
      "cell_type": "code",
      "metadata": {
        "id": "QRO4SCwDK7zf",
        "colab_type": "code",
        "outputId": "0fd275de-c5e4-444d-ed7c-2d4ee7bcd5f6",
        "colab": {
          "base_uri": "https://localhost:8080/",
          "height": 414
        }
      },
      "source": [
        "sb.heatmap(df.corr(),annot=True)"
      ],
      "execution_count": 203,
      "outputs": [
        {
          "output_type": "execute_result",
          "data": {
            "text/plain": [
              "<matplotlib.axes._subplots.AxesSubplot at 0x7f26affb3c88>"
            ]
          },
          "metadata": {
            "tags": []
          },
          "execution_count": 203
        },
        {
          "output_type": "display_data",
          "data": {
            "image/png": "[encoded data removed]",
            "text/plain": [
              "<Figure size 432x288 with 2 Axes>"
            ]
          },
          "metadata": {
            "tags": []
          }
        }
      ]
    },
    {
      "cell_type": "code",
      "metadata": {
        "id": "-qUZ_-gIMxzl",
        "colab_type": "code",
        "outputId": "7ed8927d-6d46-4d39-d29d-d26aac1d738b",
        "colab": {
          "base_uri": "https://localhost:8080/",
          "height": 1000
        }
      },
      "source": [
        "plt.scatter(df['Area(sq km)'],df['Production'],color='red')\n",
        "plt.title(\"Area Vs Production\")\n",
        "plt.xlabel(\"Area\")\n",
        "plt.ylabel(\"Production\")\n",
        "plt.grid()\n",
        "plt.show()\n",
        "plt.scatter(df['Agricultural_Area(hectares)'],df['Production'],color='red')\n",
        "plt.title(\"Area Vs Production\")\n",
        "plt.xlabel(\"Area\")\n",
        "plt.ylabel(\"Production\")\n",
        "plt.grid()\n",
        "plt.show()\n",
        "\n",
        "plt.scatter(df['Temperature(avg)'],df['Production'],color='green')\n",
        "plt.title(\"Temperature Vs Production\")\n",
        "plt.xlabel(\"Temperature\")\n",
        "plt.ylabel(\"Production\")\n",
        "plt.grid()\n",
        "plt.show()\n",
        "plt.scatter(df['Rainfall'],df['Production'],color='green')\n",
        "plt.title(\"Precipitation Vs Production\")\n",
        "plt.xlabel(\"Precipitation\")\n",
        "plt.ylabel(\"Production\")\n",
        "plt.grid()\n",
        "plt.show()\n",
        "plt.scatter(df['Humidity'],df['Production'],color='blue')\n",
        "plt.title(\"Humidity Vs Production\")\n",
        "plt.xlabel(\"Humidity\")\n",
        "plt.ylabel(\"Production\")\n",
        "plt.grid()\n",
        "plt.show()\n",
        "plt.scatter(df['Soil_pH'],df['Production'],color='red')\n",
        "plt.title(\"Soil_pH Vs Production\")\n",
        "plt.xlabel(\"Soil_pH\")\n",
        "plt.ylabel(\"Production\")\n",
        "plt.grid()\n",
        "plt.show()\n",
        "plt.scatter(df['Cloud_Coverage'],df['Production'],color='red')\n",
        "plt.title(\"Cloud_Coverage Vs Production\")\n",
        "plt.xlabel(\"Cloud_Coverage\")\n",
        "plt.ylabel(\"Production\")\n",
        "plt.grid()\n",
        "plt.show()\n",
        "plt.scatter(df['Vapour_Pressure'],df['Production'],color='red')\n",
        "plt.title(\"Vapour_Pressure Vs Production\")\n",
        "plt.xlabel(\"Vapour_Pressure\")\n",
        "plt.ylabel(\"Production\")\n",
        "plt.grid()\n",
        "plt.show()"
      ],
      "execution_count": 204,
      "outputs": [
        {
          "output_type": "display_data",
          "data": {
            "image/png": "[encoded data removed]",
            "text/plain": [
              "<Figure size 432x288 with 1 Axes>"
            ]
          },
          "metadata": {
            "tags": []
          }
        },
        {
          "output_type": "display_data",
          "data": {
            "image/png": "[encoded data removed]",
            "text/plain": [
              "<Figure size 432x288 with 1 Axes>"
            ]
          },
          "metadata": {
            "tags": []
          }
        },
        {
          "output_type": "display_data",
          "data": {
            "image/png": "[encoded data removed]",
            "text/plain": [
              "<Figure size 432x288 with 1 Axes>"
            ]
          },
          "metadata": {
            "tags": []
          }
        },
        {
          "output_type": "display_data",
          "data": {
            "image/png": "[encoded data removed]",
            "text/plain": [
              "<Figure size 432x288 with 1 Axes>"
            ]
          },
          "metadata": {
            "tags": []
          }
        },
        {
          "output_type": "display_data",
          "data": {
            "image/png": "[encoded data removed]",
            "text/plain": [
              "<Figure size 432x288 with 1 Axes>"
            ]
          },
          "metadata": {
            "tags": []
          }
        },
        {
          "output_type": "display_data",
          "data": {
            "image/png": "[encoded data removed]",
            "text/plain": [
              "<Figure size 432x288 with 1 Axes>"
            ]
          },
          "metadata": {
            "tags": []
          }
        },
        {
          "output_type": "display_data",
          "data": {
            "image/png": "[encoded data removed]",
            "text/plain": [
              "<Figure size 432x288 with 1 Axes>"
            ]
          },
          "metadata": {
            "tags": []
          }
        },
        {
          "output_type": "display_data",
          "data": {
            "image/png": "[encoded data removed]",
            "text/plain": [
              "<Figure size 432x288 with 1 Axes>"
            ]
          },
          "metadata": {
            "tags": []
          }
        }
      ]
    },
    {
      "cell_type": "markdown",
      "metadata": {
        "id": "nTXD2JX4HefM",
        "colab_type": "text"
      },
      "source": [
        "##APPLYING LINEAR REGRESSION"
      ]
    },
    {
      "cell_type": "code",
      "metadata": {
        "id": "CA9SCDWLE_SR",
        "colab_type": "code",
        "colab": {}
      },
      "source": [
        "from sklearn import linear_model\n",
        "from sklearn.model_selection import train_test_split\n",
        "from sklearn.metrics import r2_score,accuracy_score"
      ],
      "execution_count": 0,
      "outputs": []
    },
    {
      "cell_type": "code",
      "metadata": {
        "id": "-vqi3UsXO3oc",
        "colab_type": "code",
        "outputId": "e2383d3d-5c9d-49d3-887a-888e83385d3e",
        "colab": {
          "base_uri": "https://localhost:8080/",
          "height": 158
        }
      },
      "source": [
        "X = df[['Rainfall']] \n",
        "Y = df['Production']\n",
        " \n",
        "x_train,x_test,y_train,y_test=train_test_split(X,Y, test_size=0.2, random_state=1)\n",
        "reg=linear_model.LinearRegression()\n",
        "reg.fit(x_train,y_train)\n",
        "  \n",
        "\n",
        "\n",
        "\n",
        "# prediction\n",
        "y_pred=reg.predict(x_test)\n",
        "print('Predicted Production:',y_pred,'\\n')\n",
        "\n",
        "# Coefficients\n",
        "print('\\nCoefficients: ', reg.coef_,'\\n')\n",
        "\n",
        "# R-squared score\n",
        "print('\\nR-squared score: ', r2_score(y_test,y_pred),'\\n')\n"
      ],
      "execution_count": 206,
      "outputs": [
        {
          "output_type": "stream",
          "text": [
            "Predicted Production: [566.3760426  540.38322773 605.62757042 322.94857414] \n",
            "\n",
            "\n",
            "Coefficients:  [-4.96320767] \n",
            "\n",
            "\n",
            "R-squared score:  -2.809636928107146 \n",
            "\n"
          ],
          "name": "stdout"
        }
      ]
    },
    {
      "cell_type": "code",
      "metadata": {
        "id": "hPCe5jD3O_xz",
        "colab_type": "code",
        "outputId": "94eafb78-2e73-4d0e-ef04-0c5f34822857",
        "colab": {
          "base_uri": "https://localhost:8080/",
          "height": 158
        }
      },
      "source": [
        "X = df[['Temperature(avg)']] \n",
        "Y = df['Production']\n",
        " \n",
        "x_train,x_test,y_train,y_test=train_test_split(X,Y, test_size=0.2, random_state=1)\n",
        "reg=linear_model.LinearRegression()\n",
        "reg.fit(x_train,y_train)\n",
        "  \n",
        "\n",
        "\n",
        "\n",
        "# prediction\n",
        "y_pred=reg.predict(x_test)\n",
        "print('Predicted Production:',y_pred,'\\n')\n",
        "\n",
        "# Coefficients\n",
        "print('\\nCoefficients: ', reg.coef_,'\\n')\n",
        "\n",
        "# R-squared score\n",
        "print('\\nR-squared score: ', r2_score(y_test,y_pred),'\\n')\n"
      ],
      "execution_count": 207,
      "outputs": [
        {
          "output_type": "stream",
          "text": [
            "Predicted Production: [438.21866119 633.69892415 575.94339191 495.97419343] \n",
            "\n",
            "\n",
            "Coefficients:  [44.42733249] \n",
            "\n",
            "\n",
            "R-squared score:  0.7510885466900821 \n",
            "\n"
          ],
          "name": "stdout"
        }
      ]
    },
    {
      "cell_type": "code",
      "metadata": {
        "id": "CdoboUkaPt64",
        "colab_type": "code",
        "outputId": "c15b2a3b-9a3e-4116-c09c-af000226af9e",
        "colab": {
          "base_uri": "https://localhost:8080/",
          "height": 158
        }
      },
      "source": [
        "X = df[['Humidity']] \n",
        "Y = df['Production']\n",
        " \n",
        "x_train,x_test,y_train,y_test=train_test_split(X,Y, test_size=0.2, random_state=1)\n",
        "reg=linear_model.LinearRegression()\n",
        "reg.fit(x_train,y_train)\n",
        "  \n",
        "\n",
        "\n",
        "\n",
        "# prediction\n",
        "y_pred=reg.predict(x_test)\n",
        "print('Predicted Production:',y_pred,'\\n')\n",
        "\n",
        "# Coefficients\n",
        "print('\\nCoefficients: ', reg.coef_,'\\n')\n",
        "\n",
        "# R-squared score\n",
        "print('\\nR-squared score: ', r2_score(y_test,y_pred),'\\n')\n"
      ],
      "execution_count": 208,
      "outputs": [
        {
          "output_type": "stream",
          "text": [
            "Predicted Production: [646.85887416 683.821638   499.00781881 351.15676346] \n",
            "\n",
            "\n",
            "Coefficients:  [-12.32092128] \n",
            "\n",
            "\n",
            "R-squared score:  -4.969602415830268 \n",
            "\n"
          ],
          "name": "stdout"
        }
      ]
    },
    {
      "cell_type": "code",
      "metadata": {
        "id": "Ex7_ZlCRP2dW",
        "colab_type": "code",
        "outputId": "bcd81759-7bd5-4711-f93a-1055e4802773",
        "colab": {
          "base_uri": "https://localhost:8080/",
          "height": 158
        }
      },
      "source": [
        "X = df[['Area(sq km)']] \n",
        "Y = df['Production']\n",
        " \n",
        "x_train,x_test,y_train,y_test=train_test_split(X,Y, test_size=0.2, random_state=1)\n",
        "reg=linear_model.LinearRegression()\n",
        "reg.fit(x_train,y_train)\n",
        "  \n",
        "\n",
        "\n",
        "\n",
        "# prediction\n",
        "y_pred=reg.predict(x_test)\n",
        "print('Predicted Production:',y_pred,'\\n')\n",
        "\n",
        "# Coefficients\n",
        "print('\\nCoefficients: ', reg.coef_,'\\n')\n",
        "\n",
        "# R-squared score\n",
        "print('\\nR-squared score: ', r2_score(y_test,y_pred),'\\n')\n"
      ],
      "execution_count": 209,
      "outputs": [
        {
          "output_type": "stream",
          "text": [
            "Predicted Production: [426.25627073 387.12894879 499.96976001 475.19982584] \n",
            "\n",
            "\n",
            "Coefficients:  [0.04587025] \n",
            "\n",
            "\n",
            "R-squared score:  -1.6866105068458106 \n",
            "\n"
          ],
          "name": "stdout"
        }
      ]
    },
    {
      "cell_type": "code",
      "metadata": {
        "id": "GxPisgSqP7fA",
        "colab_type": "code",
        "colab": {
          "base_uri": "https://localhost:8080/",
          "height": 158
        },
        "outputId": "27aefba4-7859-4e84-9d36-70d6e0966e76"
      },
      "source": [
        "X = df[['Agricultural_Area(hectares)']] \n",
        "Y = df['Production']\n",
        " \n",
        "x_train,x_test,y_train,y_test=train_test_split(X,Y, test_size=0.2, random_state=1)\n",
        "reg=linear_model.LinearRegression()\n",
        "reg.fit(x_train,y_train)\n",
        "  \n",
        "\n",
        "\n",
        "\n",
        "# prediction\n",
        "y_pred=reg.predict(x_test)\n",
        "print('Predicted Production:',y_pred,'\\n')\n",
        "\n",
        "# Coefficients\n",
        "print('\\nCoefficients: ', reg.coef_,'\\n')\n",
        "\n",
        "# R-squared score\n",
        "print('\\nR-squared score: ', r2_score(y_test,y_pred),'\\n')\n"
      ],
      "execution_count": 210,
      "outputs": [
        {
          "output_type": "stream",
          "text": [
            "Predicted Production: [529.1489515  250.68960652 546.82938457 487.60485687] \n",
            "\n",
            "\n",
            "Coefficients:  [0.00142628] \n",
            "\n",
            "\n",
            "R-squared score:  -6.480405431521562 \n",
            "\n"
          ],
          "name": "stdout"
        }
      ]
    },
    {
      "cell_type": "code",
      "metadata": {
        "id": "7OtMkQS_P-6t",
        "colab_type": "code",
        "outputId": "fd569fb0-0c03-46fe-a33f-01be155e7ae7",
        "colab": {
          "base_uri": "https://localhost:8080/",
          "height": 158
        }
      },
      "source": [
        "X = df[['Soil_pH']] \n",
        "Y = df['Production']\n",
        " \n",
        "x_train,x_test,y_train,y_test=train_test_split(X,Y, test_size=0.2, random_state=1)\n",
        "reg=linear_model.LinearRegression()\n",
        "reg.fit(x_train,y_train)\n",
        "  \n",
        "\n",
        "\n",
        "\n",
        "# prediction\n",
        "y_pred=reg.predict(x_test)\n",
        "print('Predicted Production:',y_pred,'\\n')\n",
        "\n",
        "# Coefficients\n",
        "print('\\nCoefficients: ', reg.coef_,'\\n')\n",
        "\n",
        "# R-squared score\n",
        "print('\\nR-squared score: ', r2_score(y_test,y_pred),'\\n')\n"
      ],
      "execution_count": 211,
      "outputs": [
        {
          "output_type": "stream",
          "text": [
            "Predicted Production: [517.65244731 535.22216012 533.37271667 459.39497851] \n",
            "\n",
            "\n",
            "Coefficients:  [92.4721727] \n",
            "\n",
            "\n",
            "R-squared score:  0.0017422216468557794 \n",
            "\n"
          ],
          "name": "stdout"
        }
      ]
    },
    {
      "cell_type": "code",
      "metadata": {
        "id": "BKfd-ocoQKIz",
        "colab_type": "code",
        "outputId": "082bf3c8-77c4-4cbb-b29c-e0237f31e249",
        "colab": {
          "base_uri": "https://localhost:8080/",
          "height": 158
        }
      },
      "source": [
        "X = df[['Vapour_Pressure']] \n",
        "Y = df['Production']\n",
        " \n",
        "x_train,x_test,y_train,y_test=train_test_split(X,Y, test_size=0.2, random_state=1)\n",
        "reg=linear_model.LinearRegression()\n",
        "reg.fit(x_train,y_train)\n",
        "  \n",
        "\n",
        "\n",
        "  \n",
        "\n",
        "# prediction\n",
        "y_pred=reg.predict(x_test)\n",
        "print('Predicted Production:',y_pred,'\\n')\n",
        "\n",
        "# Coefficients\n",
        "print('\\nCoefficients: ', reg.coef_,'\\n')\n",
        "\n",
        "# R-squared score\n",
        "print('\\nR-squared score: ', r2_score(y_test,y_pred),'\\n')\n"
      ],
      "execution_count": 212,
      "outputs": [
        {
          "output_type": "stream",
          "text": [
            "Predicted Production: [594.48847576 595.63394165 594.48847576 602.12491503] \n",
            "\n",
            "\n",
            "Coefficients:  [3.81821964] \n",
            "\n",
            "\n",
            "R-squared score:  -1.416214725739724 \n",
            "\n"
          ],
          "name": "stdout"
        }
      ]
    },
    {
      "cell_type": "code",
      "metadata": {
        "id": "eKmRGaB_QXVs",
        "colab_type": "code",
        "outputId": "9226f158-c080-4073-91ec-d079e5162aa8",
        "colab": {
          "base_uri": "https://localhost:8080/",
          "height": 158
        }
      },
      "source": [
        "X = df[['Cloud_Coverage']] \n",
        "Y = df['Production']\n",
        " \n",
        "x_train,x_test,y_train,y_test=train_test_split(X,Y, test_size=0.2, random_state=1)\n",
        "reg=linear_model.LinearRegression()\n",
        "reg.fit(x_train,y_train)\n",
        "  \n",
        "\n",
        "\n",
        "\n",
        "# prediction\n",
        "y_pred=reg.predict(x_test)\n",
        "print('Predicted Production:',y_pred,'\\n')\n",
        "\n",
        "# Coefficients\n",
        "print('\\nCoefficients: ', reg.coef_,'\\n')\n",
        "\n",
        "# R-squared score\n",
        "print('\\nR-squared score: ', r2_score(y_test,y_pred),'\\n')\n"
      ],
      "execution_count": 213,
      "outputs": [
        {
          "output_type": "stream",
          "text": [
            "Predicted Production: [549.16664424 569.82033386 549.16664424 570.68090426] \n",
            "\n",
            "\n",
            "Coefficients:  [0.8605704] \n",
            "\n",
            "\n",
            "R-squared score:  -0.26672009691026455 \n",
            "\n"
          ],
          "name": "stdout"
        }
      ]
    },
    {
      "cell_type": "markdown",
      "metadata": {
        "id": "x-t8D6Xrgwi1",
        "colab_type": "text"
      },
      "source": [
        "## Multivariate Linear Regression"
      ]
    },
    {
      "cell_type": "code",
      "metadata": {
        "id": "jJoJfeyXHoDa",
        "colab_type": "code",
        "outputId": "d282267b-0e49-4f24-de11-eb2700bd61aa",
        "colab": {
          "base_uri": "https://localhost:8080/",
          "height": 176
        }
      },
      "source": [
        "X = df[['Area(sq km)','Agricultural_Area(hectares)','Rainfall'\t,'Temperature(avg)'\t,'Humidity' ,'Soil_pH','Vapour_Pressure','Cloud_Coverage']] \n",
        "Y = df['Production']\n",
        " \n",
        "x_train,x_test,y_train,y_test=train_test_split(X,Y, test_size=0.2, random_state=1)\n",
        "reg=linear_model.LinearRegression()\n",
        "reg.fit(x_train,y_train)\n",
        "  \n",
        "\n",
        "\n",
        "\n",
        "# prediction\n",
        "y_pred=reg.predict(x_test)\n",
        "print('Predicted Production:',y_pred,'\\n')\n",
        "\n",
        "# Coefficients\n",
        "print('\\nCoefficients: ', reg.coef_,'\\n')\n",
        "\n",
        "# R-squared score\n",
        "print('\\nR-squared score: ', r2_score(y_test,y_pred),'\\n')\n",
        "\n"
      ],
      "execution_count": 214,
      "outputs": [
        {
          "output_type": "stream",
          "text": [
            "Predicted Production: [370.50565374 497.36021715 532.42765205 387.02411075] \n",
            "\n",
            "\n",
            "Coefficients:  [ 2.94422440e-02  1.50100772e-04 -5.17842326e-01  4.24870979e+01\n",
            " -1.73181373e+00 -1.33880123e+01 -8.22055567e-01 -2.23442845e-01] \n",
            "\n",
            "\n",
            "R-squared score:  -0.6887369088778215 \n",
            "\n"
          ],
          "name": "stdout"
        }
      ]
    },
    {
      "cell_type": "code",
      "metadata": {
        "id": "W-NOFEoNOGEC",
        "colab_type": "code",
        "outputId": "147ffaa3-043d-4ba1-8a06-ec4d53744e56",
        "colab": {
          "base_uri": "https://localhost:8080/",
          "height": 158
        }
      },
      "source": [
        "X = df[['Area(sq km)','Agricultural_Area(hectares)','Temperature(avg)'\t,'Soil_pH']] \n",
        "Y = df['Production']\n",
        " \n",
        "x_train,x_test,y_train,y_test=train_test_split(X,Y, test_size=0.2, random_state=1)\n",
        "reg=linear_model.LinearRegression()\n",
        "reg.fit(x_train,y_train)\n",
        "  \n",
        "\n",
        "\n",
        "\n",
        "# prediction\n",
        "y_pred=reg.predict(x_test)\n",
        "print('Predicted Production:',y_pred,'\\n')\n",
        "\n",
        "# Coefficients\n",
        "print('\\nCoefficients: ', reg.coef_,'\\n')\n",
        "\n",
        "# R-squared score\n",
        "print('\\nR-squared score: ', r2_score(y_test,y_pred),'\\n')\n"
      ],
      "execution_count": 215,
      "outputs": [
        {
          "output_type": "stream",
          "text": [
            "Predicted Production: [372.70322949 510.07860464 540.44405552 441.82842829] \n",
            "\n",
            "\n",
            "Coefficients:  [2.52649655e-02 9.84931906e-05 4.00115932e+01 1.10773301e+01] \n",
            "\n",
            "\n",
            "R-squared score:  0.17241761877582318 \n",
            "\n"
          ],
          "name": "stdout"
        }
      ]
    },
    {
      "cell_type": "markdown",
      "metadata": {
        "id": "niHG9G5gdLdM",
        "colab_type": "text"
      },
      "source": [
        "\n",
        "## Regression (Predicting Production for each District without taking that District as training data) :\n"
      ]
    },
    {
      "cell_type": "code",
      "metadata": {
        "id": "UL1bl0EhUsb_",
        "colab_type": "code",
        "outputId": "fc7d336a-6275-4eeb-8de1-3747b2ac9bdd",
        "colab": {
          "base_uri": "https://localhost:8080/",
          "height": 621
        }
      },
      "source": [
        "error=[]\n",
        "n=len(df['Production'])\n",
        "for i in range(n):\n",
        "  A_test=df[['Agricultural_Area(hectares)','Rainfall','Temperature(avg)'\t,'Soil_pH','Cloud_Coverage']].iloc[df.index==i]\n",
        "  b_test=df.iloc[df.index==i]['Production']\n",
        "  A_train=df[['Agricultural_Area(hectares)','Rainfall','Temperature(avg)'\t,'Soil_pH','Cloud_Coverage']].drop([i],axis=0)\n",
        "  b_train=df.drop([i])['Production']\n",
        "\n",
        "  reg=linear_model.LinearRegression()\n",
        "  reg.fit(A_train,b_train)\n",
        "  # prediction\n",
        "  b_pred=reg.predict(A_test)\n",
        "  print('~ District:',df.at[i,'District'],'-\\n','Predicted Production:',b_pred,', ','Actual Production:',[df.loc[i,'Production']],', ','Error: ',b_pred-df.loc[i,'Production'])\n",
        "  error.append(float(b_pred-df.loc[i,'Production']))\n",
        "  "
      ],
      "execution_count": 216,
      "outputs": [
        {
          "output_type": "stream",
          "text": [
            "~ District: Darjeeling -\n",
            " Predicted Production: [-11.55223951] ,  Actual Production: [56.945] ,  Error:  [-68.49723951]\n",
            "~ District: Jalpaiguri -\n",
            " Predicted Production: [495.05877698] ,  Actual Production: [433.939] ,  Error:  [61.11977698]\n",
            "~ District: Koch Bihar -\n",
            " Predicted Production: [460.01039296] ,  Actual Production: [515.777] ,  Error:  [-55.76660704]\n",
            "~ District: Uttar Dinajpur -\n",
            " Predicted Production: [443.23313603] ,  Actual Production: [420.273] ,  Error:  [22.96013603]\n",
            "~ District: Dakshin Dinajpur -\n",
            " Predicted Production: [400.83817712] ,  Actual Production: [442.884] ,  Error:  [-42.04582288]\n",
            "~ District: Maldah -\n",
            " Predicted Production: [554.69514531] ,  Actual Production: [557.341] ,  Error:  [-2.64585469]\n",
            "~ District: Murshidabad -\n",
            " Predicted Production: [622.56299326] ,  Actual Production: [516.541] ,  Error:  [106.02199326]\n",
            "~ District: Nadia -\n",
            " Predicted Production: [566.55934627] ,  Actual Production: [573.137] ,  Error:  [-6.57765373]\n",
            "~ District: Birbhum -\n",
            " Predicted Production: [654.47896911] ,  Actual Production: [529.374] ,  Error:  [125.10496911]\n",
            "~ District: Bardhaman -\n",
            " Predicted Production: [738.97364466] ,  Actual Production: [861.138] ,  Error:  [-122.16435534]\n",
            "~ District: Bankura -\n",
            " Predicted Production: [665.97275805] ,  Actual Production: [794.716] ,  Error:  [-128.74324195]\n",
            "~ District: Purulia -\n",
            " Predicted Production: [672.99382822] ,  Actual Production: [697.889] ,  Error:  [-24.89517178]\n",
            "~ District: Hugli -\n",
            " Predicted Production: [610.85375505] ,  Actual Production: [580.845] ,  Error:  [30.00875505]\n",
            "~ District: Haora -\n",
            " Predicted Production: [507.82630522] ,  Actual Production: [576.63] ,  Error:  [-68.80369478]\n",
            "~ District: North 24 Parganas -\n",
            " Predicted Production: [744.16102336] ,  Actual Production: [601.623] ,  Error:  [142.53802336]\n",
            "~ District: South 24 Parganas -\n",
            " Predicted Production: [525.86110821] ,  Actual Production: [594.541] ,  Error:  [-68.67989179]\n",
            "~ District: Medinipur -\n",
            " Predicted Production: [665.56532222] ,  Actual Production: [546.26] ,  Error:  [119.30532222]\n"
          ],
          "name": "stdout"
        }
      ]
    },
    {
      "cell_type": "markdown",
      "metadata": {
        "id": "3E84hLzLdamp",
        "colab_type": "text"
      },
      "source": [
        "**Mean Squared Error:**"
      ]
    },
    {
      "cell_type": "code",
      "metadata": {
        "id": "zt38hu14anKP",
        "colab_type": "code",
        "outputId": "b43d7cef-e24b-4cfa-b60a-ccaf9f37d2a8",
        "colab": {
          "base_uri": "https://localhost:8080/",
          "height": 90
        }
      },
      "source": [
        "import math\n",
        "print(list(error))\n",
        "\n",
        "total_error=0\n",
        "for i in error:\n",
        "  total_error=total_error+(i*i)\n",
        "  \n",
        "mean_squared_error=math.sqrt(total_error/n)\n",
        "\n",
        "print(\"\\nMean Squared Error: \",mean_squared_error)"
      ],
      "execution_count": 217,
      "outputs": [
        {
          "output_type": "stream",
          "text": [
            "[-68.49723951376046, 61.11977698228981, -55.766607041679435, 22.960136027453586, -42.04582287639255, -2.6458546918267984, 106.02199325922163, -6.577653734171463, 125.1049691075367, -122.16435534233767, -128.74324194680958, -24.895171782691136, 30.008755049791148, -68.80369478461807, 142.53802336075046, -68.67989179200595, 119.3053222157024]\n",
            "\n",
            "Mean Squared Error:  83.24152876874666\n"
          ],
          "name": "stdout"
        }
      ]
    }
  ]
}