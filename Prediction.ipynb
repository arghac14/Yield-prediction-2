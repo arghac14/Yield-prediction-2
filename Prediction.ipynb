{
  "nbformat": 4,
  "nbformat_minor": 0,
  "metadata": {
    "colab": {
      "name": "Prediction.ipynb",
      "provenance": [],
      "collapsed_sections": [],
      "include_colab_link": true
    },
    "kernelspec": {
      "display_name": "Python 3",
      "language": "python",
      "name": "python3"
    },
    "language_info": {
      "codemirror_mode": {
        "name": "ipython",
        "version": 3
      },
      "file_extension": ".py",
      "mimetype": "text/x-python",
      "name": "python",
      "nbconvert_exporter": "python",
      "pygments_lexer": "ipython3",
      "version": "3.7.3"
    }
  },
  "cells": [
    {
      "cell_type": "markdown",
      "metadata": {
        "id": "view-in-github",
        "colab_type": "text"
      },
      "source": [
        "<a href=\"https://colab.research.google.com/github/arghac14/Yield-prediction-2/blob/master/Prediction.ipynb\" target=\"_parent\"><img src=\"https://colab.research.google.com/assets/colab-badge.svg\" alt=\"Open In Colab\"/></a>"
      ]
    },
    {
      "cell_type": "code",
      "metadata": {
        "colab_type": "code",
        "id": "H-YyDIQRFKgM",
        "colab": {}
      },
      "source": [
        "import numpy as np\n",
        "import pandas as pd"
      ],
      "execution_count": 0,
      "outputs": []
    },
    {
      "cell_type": "code",
      "metadata": {
        "colab_type": "code",
        "id": "joEtmOz2FUDv",
        "outputId": "47dac492-e204-4ef4-fc57-fccd8ac43a18",
        "colab": {
          "base_uri": "https://localhost:8080/",
          "height": 557
        }
      },
      "source": [
        "data={\n",
        "    'District':['Darjeeling','Jalpaiguri','Koch Bihar','Uttar Dinajpur','Dakshin Dinajpur','Maldah','Murshidabad','Nadia','Birbhum','Bardhaman','Bankura','Purulia','Hugli','Haora','North 24 Parganas','South 24 Parganas','Medinipur'],\n",
        "    'Rainfall':[174.9025,195.2306,177.3472,128.3008,124.4917,114.9917,117.4706,120.3923,115.0348,118.0904,117.6115,109.8540,128.4050,133.5379,134.0477,116.9631,130.8080],\n",
        "    'Temperature(avg)':[17.5,26.3,27.5,26.2,26.6,30.4,28.2,29.3,30.6,32.3,31.6,31.7,30.5,30.6,31.2,27.1,30.75],\n",
        "    'Humidity':[92,94,96,72,74,87,83,84,71,77,71,85,76,69,68,79,76],\n",
        "    'Area(sq km)':[3149,6227,3387,2320,2219,3733,5324,3927,4545,7024,6882,6259,3149,1467,4094,9960,4061],\n",
        "    'Soil_pH':[5.92,4.62,5.2,5.83,5.87,6.0,7.05,6.0,5.75,6.5,6.23,6.35,6.12,6.02,7.12,7.38,6.12],\n",
        "    'Cloud_Coverage':[0,75,75,0,0,25,0,0,50,63,50,0,74,74,0,75,75],\n",
        "    'Vapour_Pressure':[867.4,1007.8,1008.5,0,0,1008.5,0,0,1007.8,1004.8,1006.5,0,1006.6,1006.8,0,1007.3,1007.1],\n",
        "    'Yield_Rate(Kg/Hect)':[2098.58,2459.69,2376.35,2592.39,2829.67,3233.12,3081.66,2876.25,3262.04,3242.24,2701.24,2141.85,3053.53,2485.50,2873.51,2440.98,2717.67],#aman paddy\n",
        "    'Production':[56.945,433.939,515.777,420.273,442.884,557.341,516.541,573.137,529.374,861.138,794.716,697.889,580.845,576.630,601.623,594.541,546.260]\n",
        "}\n",
        "\n",
        "df=pd.DataFrame(data)\n",
        "df"
      ],
      "execution_count": 58,
      "outputs": [
        {
          "output_type": "execute_result",
          "data": {
            "text/html": [
              "<div>\n",
              "<style scoped>\n",
              "    .dataframe tbody tr th:only-of-type {\n",
              "        vertical-align: middle;\n",
              "    }\n",
              "\n",
              "    .dataframe tbody tr th {\n",
              "        vertical-align: top;\n",
              "    }\n",
              "\n",
              "    .dataframe thead th {\n",
              "        text-align: right;\n",
              "    }\n",
              "</style>\n",
              "<table border=\"1\" class=\"dataframe\">\n",
              "  <thead>\n",
              "    <tr style=\"text-align: right;\">\n",
              "      <th></th>\n",
              "      <th>District</th>\n",
              "      <th>Rainfall</th>\n",
              "      <th>Temperature(avg)</th>\n",
              "      <th>Humidity</th>\n",
              "      <th>Area(sq km)</th>\n",
              "      <th>Soil_pH</th>\n",
              "      <th>Cloud_Coverage</th>\n",
              "      <th>Vapour_Pressure</th>\n",
              "      <th>Yield_Rate(Kg/Hect)</th>\n",
              "      <th>Production</th>\n",
              "    </tr>\n",
              "  </thead>\n",
              "  <tbody>\n",
              "    <tr>\n",
              "      <th>0</th>\n",
              "      <td>Darjeeling</td>\n",
              "      <td>174.9025</td>\n",
              "      <td>17.50</td>\n",
              "      <td>92</td>\n",
              "      <td>3149</td>\n",
              "      <td>5.92</td>\n",
              "      <td>0</td>\n",
              "      <td>867.4</td>\n",
              "      <td>2098.58</td>\n",
              "      <td>56.945</td>\n",
              "    </tr>\n",
              "    <tr>\n",
              "      <th>1</th>\n",
              "      <td>Jalpaiguri</td>\n",
              "      <td>195.2306</td>\n",
              "      <td>26.30</td>\n",
              "      <td>94</td>\n",
              "      <td>6227</td>\n",
              "      <td>4.62</td>\n",
              "      <td>75</td>\n",
              "      <td>1007.8</td>\n",
              "      <td>2459.69</td>\n",
              "      <td>433.939</td>\n",
              "    </tr>\n",
              "    <tr>\n",
              "      <th>2</th>\n",
              "      <td>Koch Bihar</td>\n",
              "      <td>177.3472</td>\n",
              "      <td>27.50</td>\n",
              "      <td>96</td>\n",
              "      <td>3387</td>\n",
              "      <td>5.20</td>\n",
              "      <td>75</td>\n",
              "      <td>1008.5</td>\n",
              "      <td>2376.35</td>\n",
              "      <td>515.777</td>\n",
              "    </tr>\n",
              "    <tr>\n",
              "      <th>3</th>\n",
              "      <td>Uttar Dinajpur</td>\n",
              "      <td>128.3008</td>\n",
              "      <td>26.20</td>\n",
              "      <td>72</td>\n",
              "      <td>2320</td>\n",
              "      <td>5.83</td>\n",
              "      <td>0</td>\n",
              "      <td>0.0</td>\n",
              "      <td>2592.39</td>\n",
              "      <td>420.273</td>\n",
              "    </tr>\n",
              "    <tr>\n",
              "      <th>4</th>\n",
              "      <td>Dakshin Dinajpur</td>\n",
              "      <td>124.4917</td>\n",
              "      <td>26.60</td>\n",
              "      <td>74</td>\n",
              "      <td>2219</td>\n",
              "      <td>5.87</td>\n",
              "      <td>0</td>\n",
              "      <td>0.0</td>\n",
              "      <td>2829.67</td>\n",
              "      <td>442.884</td>\n",
              "    </tr>\n",
              "    <tr>\n",
              "      <th>5</th>\n",
              "      <td>Maldah</td>\n",
              "      <td>114.9917</td>\n",
              "      <td>30.40</td>\n",
              "      <td>87</td>\n",
              "      <td>3733</td>\n",
              "      <td>6.00</td>\n",
              "      <td>25</td>\n",
              "      <td>1008.5</td>\n",
              "      <td>3233.12</td>\n",
              "      <td>557.341</td>\n",
              "    </tr>\n",
              "    <tr>\n",
              "      <th>6</th>\n",
              "      <td>Murshidabad</td>\n",
              "      <td>117.4706</td>\n",
              "      <td>28.20</td>\n",
              "      <td>83</td>\n",
              "      <td>5324</td>\n",
              "      <td>7.05</td>\n",
              "      <td>0</td>\n",
              "      <td>0.0</td>\n",
              "      <td>3081.66</td>\n",
              "      <td>516.541</td>\n",
              "    </tr>\n",
              "    <tr>\n",
              "      <th>7</th>\n",
              "      <td>Nadia</td>\n",
              "      <td>120.3923</td>\n",
              "      <td>29.30</td>\n",
              "      <td>84</td>\n",
              "      <td>3927</td>\n",
              "      <td>6.00</td>\n",
              "      <td>0</td>\n",
              "      <td>0.0</td>\n",
              "      <td>2876.25</td>\n",
              "      <td>573.137</td>\n",
              "    </tr>\n",
              "    <tr>\n",
              "      <th>8</th>\n",
              "      <td>Birbhum</td>\n",
              "      <td>115.0348</td>\n",
              "      <td>30.60</td>\n",
              "      <td>71</td>\n",
              "      <td>4545</td>\n",
              "      <td>5.75</td>\n",
              "      <td>50</td>\n",
              "      <td>1007.8</td>\n",
              "      <td>3262.04</td>\n",
              "      <td>529.374</td>\n",
              "    </tr>\n",
              "    <tr>\n",
              "      <th>9</th>\n",
              "      <td>Bardhaman</td>\n",
              "      <td>118.0904</td>\n",
              "      <td>32.30</td>\n",
              "      <td>77</td>\n",
              "      <td>7024</td>\n",
              "      <td>6.50</td>\n",
              "      <td>63</td>\n",
              "      <td>1004.8</td>\n",
              "      <td>3242.24</td>\n",
              "      <td>861.138</td>\n",
              "    </tr>\n",
              "    <tr>\n",
              "      <th>10</th>\n",
              "      <td>Bankura</td>\n",
              "      <td>117.6115</td>\n",
              "      <td>31.60</td>\n",
              "      <td>71</td>\n",
              "      <td>6882</td>\n",
              "      <td>6.23</td>\n",
              "      <td>50</td>\n",
              "      <td>1006.5</td>\n",
              "      <td>2701.24</td>\n",
              "      <td>794.716</td>\n",
              "    </tr>\n",
              "    <tr>\n",
              "      <th>11</th>\n",
              "      <td>Purulia</td>\n",
              "      <td>109.8540</td>\n",
              "      <td>31.70</td>\n",
              "      <td>85</td>\n",
              "      <td>6259</td>\n",
              "      <td>6.35</td>\n",
              "      <td>0</td>\n",
              "      <td>0.0</td>\n",
              "      <td>2141.85</td>\n",
              "      <td>697.889</td>\n",
              "    </tr>\n",
              "    <tr>\n",
              "      <th>12</th>\n",
              "      <td>Hugli</td>\n",
              "      <td>128.4050</td>\n",
              "      <td>30.50</td>\n",
              "      <td>76</td>\n",
              "      <td>3149</td>\n",
              "      <td>6.12</td>\n",
              "      <td>74</td>\n",
              "      <td>1006.6</td>\n",
              "      <td>3053.53</td>\n",
              "      <td>580.845</td>\n",
              "    </tr>\n",
              "    <tr>\n",
              "      <th>13</th>\n",
              "      <td>Haora</td>\n",
              "      <td>133.5379</td>\n",
              "      <td>30.60</td>\n",
              "      <td>69</td>\n",
              "      <td>1467</td>\n",
              "      <td>6.02</td>\n",
              "      <td>74</td>\n",
              "      <td>1006.8</td>\n",
              "      <td>2485.50</td>\n",
              "      <td>576.630</td>\n",
              "    </tr>\n",
              "    <tr>\n",
              "      <th>14</th>\n",
              "      <td>North 24 Parganas</td>\n",
              "      <td>134.0477</td>\n",
              "      <td>31.20</td>\n",
              "      <td>68</td>\n",
              "      <td>4094</td>\n",
              "      <td>7.12</td>\n",
              "      <td>0</td>\n",
              "      <td>0.0</td>\n",
              "      <td>2873.51</td>\n",
              "      <td>601.623</td>\n",
              "    </tr>\n",
              "    <tr>\n",
              "      <th>15</th>\n",
              "      <td>South 24 Parganas</td>\n",
              "      <td>116.9631</td>\n",
              "      <td>27.10</td>\n",
              "      <td>79</td>\n",
              "      <td>9960</td>\n",
              "      <td>7.38</td>\n",
              "      <td>75</td>\n",
              "      <td>1007.3</td>\n",
              "      <td>2440.98</td>\n",
              "      <td>594.541</td>\n",
              "    </tr>\n",
              "    <tr>\n",
              "      <th>16</th>\n",
              "      <td>Medinipur</td>\n",
              "      <td>130.8080</td>\n",
              "      <td>30.75</td>\n",
              "      <td>76</td>\n",
              "      <td>4061</td>\n",
              "      <td>6.12</td>\n",
              "      <td>75</td>\n",
              "      <td>1007.1</td>\n",
              "      <td>2717.67</td>\n",
              "      <td>546.260</td>\n",
              "    </tr>\n",
              "  </tbody>\n",
              "</table>\n",
              "</div>"
            ],
            "text/plain": [
              "             District  Rainfall  ...  Yield_Rate(Kg/Hect)  Production\n",
              "0          Darjeeling  174.9025  ...              2098.58      56.945\n",
              "1          Jalpaiguri  195.2306  ...              2459.69     433.939\n",
              "2          Koch Bihar  177.3472  ...              2376.35     515.777\n",
              "3      Uttar Dinajpur  128.3008  ...              2592.39     420.273\n",
              "4    Dakshin Dinajpur  124.4917  ...              2829.67     442.884\n",
              "5              Maldah  114.9917  ...              3233.12     557.341\n",
              "6         Murshidabad  117.4706  ...              3081.66     516.541\n",
              "7               Nadia  120.3923  ...              2876.25     573.137\n",
              "8             Birbhum  115.0348  ...              3262.04     529.374\n",
              "9           Bardhaman  118.0904  ...              3242.24     861.138\n",
              "10            Bankura  117.6115  ...              2701.24     794.716\n",
              "11            Purulia  109.8540  ...              2141.85     697.889\n",
              "12              Hugli  128.4050  ...              3053.53     580.845\n",
              "13              Haora  133.5379  ...              2485.50     576.630\n",
              "14  North 24 Parganas  134.0477  ...              2873.51     601.623\n",
              "15  South 24 Parganas  116.9631  ...              2440.98     594.541\n",
              "16          Medinipur  130.8080  ...              2717.67     546.260\n",
              "\n",
              "[17 rows x 10 columns]"
            ]
          },
          "metadata": {
            "tags": []
          },
          "execution_count": 58
        }
      ]
    },
    {
      "cell_type": "code",
      "metadata": {
        "id": "fE444au_JeXT",
        "colab_type": "code",
        "outputId": "96c9217e-f8d9-480b-f844-d84da9a79ada",
        "colab": {
          "base_uri": "https://localhost:8080/",
          "height": 557
        }
      },
      "source": [
        "# Data Cleaning\n",
        "\n",
        "df.loc[df.Vapour_Pressure==0,'Vapour_Pressure']=df.Vapour_Pressure.mean()\n",
        "df.loc[df.Cloud_Coverage==0,'Cloud_Coverage']=df.Cloud_Coverage.mean()\n",
        "df"
      ],
      "execution_count": 3,
      "outputs": [
        {
          "output_type": "execute_result",
          "data": {
            "text/html": [
              "<div>\n",
              "<style scoped>\n",
              "    .dataframe tbody tr th:only-of-type {\n",
              "        vertical-align: middle;\n",
              "    }\n",
              "\n",
              "    .dataframe tbody tr th {\n",
              "        vertical-align: top;\n",
              "    }\n",
              "\n",
              "    .dataframe thead th {\n",
              "        text-align: right;\n",
              "    }\n",
              "</style>\n",
              "<table border=\"1\" class=\"dataframe\">\n",
              "  <thead>\n",
              "    <tr style=\"text-align: right;\">\n",
              "      <th></th>\n",
              "      <th>District</th>\n",
              "      <th>Rainfall</th>\n",
              "      <th>Temperature(avg)</th>\n",
              "      <th>Humidity</th>\n",
              "      <th>Area(sq km)</th>\n",
              "      <th>Soil_pH</th>\n",
              "      <th>Cloud_Coverage</th>\n",
              "      <th>Vapour_Pressure</th>\n",
              "      <th>Yield_Rate(Kg/Hect)</th>\n",
              "      <th>Production</th>\n",
              "    </tr>\n",
              "  </thead>\n",
              "  <tbody>\n",
              "    <tr>\n",
              "      <th>0</th>\n",
              "      <td>Darjeeling</td>\n",
              "      <td>174.9025</td>\n",
              "      <td>17.50</td>\n",
              "      <td>92</td>\n",
              "      <td>3149</td>\n",
              "      <td>5.92</td>\n",
              "      <td>37.411765</td>\n",
              "      <td>867.400000</td>\n",
              "      <td>2098.58</td>\n",
              "      <td>56.945</td>\n",
              "    </tr>\n",
              "    <tr>\n",
              "      <th>1</th>\n",
              "      <td>Jalpaiguri</td>\n",
              "      <td>195.2306</td>\n",
              "      <td>26.30</td>\n",
              "      <td>94</td>\n",
              "      <td>6227</td>\n",
              "      <td>4.62</td>\n",
              "      <td>75.000000</td>\n",
              "      <td>1007.800000</td>\n",
              "      <td>2459.69</td>\n",
              "      <td>433.939</td>\n",
              "    </tr>\n",
              "    <tr>\n",
              "      <th>2</th>\n",
              "      <td>Koch Bihar</td>\n",
              "      <td>177.3472</td>\n",
              "      <td>27.50</td>\n",
              "      <td>96</td>\n",
              "      <td>3387</td>\n",
              "      <td>5.20</td>\n",
              "      <td>75.000000</td>\n",
              "      <td>1008.500000</td>\n",
              "      <td>2376.35</td>\n",
              "      <td>515.777</td>\n",
              "    </tr>\n",
              "    <tr>\n",
              "      <th>3</th>\n",
              "      <td>Uttar Dinajpur</td>\n",
              "      <td>128.3008</td>\n",
              "      <td>26.20</td>\n",
              "      <td>72</td>\n",
              "      <td>2320</td>\n",
              "      <td>5.83</td>\n",
              "      <td>37.411765</td>\n",
              "      <td>643.476471</td>\n",
              "      <td>2592.39</td>\n",
              "      <td>466.273</td>\n",
              "    </tr>\n",
              "    <tr>\n",
              "      <th>4</th>\n",
              "      <td>Dakshin Dinajpur</td>\n",
              "      <td>124.4917</td>\n",
              "      <td>26.60</td>\n",
              "      <td>74</td>\n",
              "      <td>2219</td>\n",
              "      <td>5.87</td>\n",
              "      <td>37.411765</td>\n",
              "      <td>643.476471</td>\n",
              "      <td>2829.67</td>\n",
              "      <td>462.884</td>\n",
              "    </tr>\n",
              "    <tr>\n",
              "      <th>5</th>\n",
              "      <td>Maldah</td>\n",
              "      <td>114.9917</td>\n",
              "      <td>30.40</td>\n",
              "      <td>87</td>\n",
              "      <td>3733</td>\n",
              "      <td>6.00</td>\n",
              "      <td>25.000000</td>\n",
              "      <td>1008.500000</td>\n",
              "      <td>3233.12</td>\n",
              "      <td>457.341</td>\n",
              "    </tr>\n",
              "    <tr>\n",
              "      <th>6</th>\n",
              "      <td>Murshidabad</td>\n",
              "      <td>117.4706</td>\n",
              "      <td>28.20</td>\n",
              "      <td>83</td>\n",
              "      <td>5324</td>\n",
              "      <td>7.05</td>\n",
              "      <td>37.411765</td>\n",
              "      <td>643.476471</td>\n",
              "      <td>3081.66</td>\n",
              "      <td>686.341</td>\n",
              "    </tr>\n",
              "    <tr>\n",
              "      <th>7</th>\n",
              "      <td>Nadia</td>\n",
              "      <td>120.3923</td>\n",
              "      <td>29.30</td>\n",
              "      <td>84</td>\n",
              "      <td>3927</td>\n",
              "      <td>6.00</td>\n",
              "      <td>37.411765</td>\n",
              "      <td>643.476471</td>\n",
              "      <td>2876.25</td>\n",
              "      <td>273.137</td>\n",
              "    </tr>\n",
              "    <tr>\n",
              "      <th>8</th>\n",
              "      <td>Birbhum</td>\n",
              "      <td>115.0348</td>\n",
              "      <td>30.60</td>\n",
              "      <td>71</td>\n",
              "      <td>4545</td>\n",
              "      <td>5.75</td>\n",
              "      <td>50.000000</td>\n",
              "      <td>1007.800000</td>\n",
              "      <td>3262.04</td>\n",
              "      <td>1029.374</td>\n",
              "    </tr>\n",
              "    <tr>\n",
              "      <th>9</th>\n",
              "      <td>Bardhaman</td>\n",
              "      <td>118.0904</td>\n",
              "      <td>32.30</td>\n",
              "      <td>77</td>\n",
              "      <td>7024</td>\n",
              "      <td>6.50</td>\n",
              "      <td>63.000000</td>\n",
              "      <td>1004.800000</td>\n",
              "      <td>3242.24</td>\n",
              "      <td>1361.138</td>\n",
              "    </tr>\n",
              "    <tr>\n",
              "      <th>10</th>\n",
              "      <td>Bankura</td>\n",
              "      <td>117.6115</td>\n",
              "      <td>31.60</td>\n",
              "      <td>71</td>\n",
              "      <td>6882</td>\n",
              "      <td>6.23</td>\n",
              "      <td>50.000000</td>\n",
              "      <td>1006.500000</td>\n",
              "      <td>2701.24</td>\n",
              "      <td>794.716</td>\n",
              "    </tr>\n",
              "    <tr>\n",
              "      <th>11</th>\n",
              "      <td>Purulia</td>\n",
              "      <td>109.8540</td>\n",
              "      <td>31.70</td>\n",
              "      <td>85</td>\n",
              "      <td>6259</td>\n",
              "      <td>6.35</td>\n",
              "      <td>37.411765</td>\n",
              "      <td>643.476471</td>\n",
              "      <td>2141.85</td>\n",
              "      <td>597.889</td>\n",
              "    </tr>\n",
              "    <tr>\n",
              "      <th>12</th>\n",
              "      <td>Hugli</td>\n",
              "      <td>128.4050</td>\n",
              "      <td>30.50</td>\n",
              "      <td>76</td>\n",
              "      <td>3149</td>\n",
              "      <td>6.12</td>\n",
              "      <td>74.000000</td>\n",
              "      <td>1006.600000</td>\n",
              "      <td>3053.53</td>\n",
              "      <td>580.845</td>\n",
              "    </tr>\n",
              "    <tr>\n",
              "      <th>13</th>\n",
              "      <td>Haora</td>\n",
              "      <td>133.5379</td>\n",
              "      <td>30.60</td>\n",
              "      <td>69</td>\n",
              "      <td>1467</td>\n",
              "      <td>6.02</td>\n",
              "      <td>74.000000</td>\n",
              "      <td>1006.800000</td>\n",
              "      <td>2485.50</td>\n",
              "      <td>176.630</td>\n",
              "    </tr>\n",
              "    <tr>\n",
              "      <th>14</th>\n",
              "      <td>North 24 Parganas</td>\n",
              "      <td>134.0477</td>\n",
              "      <td>31.20</td>\n",
              "      <td>68</td>\n",
              "      <td>4094</td>\n",
              "      <td>7.12</td>\n",
              "      <td>37.411765</td>\n",
              "      <td>643.476471</td>\n",
              "      <td>2873.51</td>\n",
              "      <td>401.623</td>\n",
              "    </tr>\n",
              "    <tr>\n",
              "      <th>15</th>\n",
              "      <td>South 24 Parganas</td>\n",
              "      <td>116.9631</td>\n",
              "      <td>27.10</td>\n",
              "      <td>79</td>\n",
              "      <td>9960</td>\n",
              "      <td>7.38</td>\n",
              "      <td>75.000000</td>\n",
              "      <td>1007.300000</td>\n",
              "      <td>2440.98</td>\n",
              "      <td>794.541</td>\n",
              "    </tr>\n",
              "    <tr>\n",
              "      <th>16</th>\n",
              "      <td>Medinipur</td>\n",
              "      <td>130.8080</td>\n",
              "      <td>30.75</td>\n",
              "      <td>76</td>\n",
              "      <td>4061</td>\n",
              "      <td>6.12</td>\n",
              "      <td>75.000000</td>\n",
              "      <td>1007.100000</td>\n",
              "      <td>2717.67</td>\n",
              "      <td>546.260</td>\n",
              "    </tr>\n",
              "  </tbody>\n",
              "</table>\n",
              "</div>"
            ],
            "text/plain": [
              "             District  Rainfall  ...  Yield_Rate(Kg/Hect)  Production\n",
              "0          Darjeeling  174.9025  ...              2098.58      56.945\n",
              "1          Jalpaiguri  195.2306  ...              2459.69     433.939\n",
              "2          Koch Bihar  177.3472  ...              2376.35     515.777\n",
              "3      Uttar Dinajpur  128.3008  ...              2592.39     466.273\n",
              "4    Dakshin Dinajpur  124.4917  ...              2829.67     462.884\n",
              "5              Maldah  114.9917  ...              3233.12     457.341\n",
              "6         Murshidabad  117.4706  ...              3081.66     686.341\n",
              "7               Nadia  120.3923  ...              2876.25     273.137\n",
              "8             Birbhum  115.0348  ...              3262.04    1029.374\n",
              "9           Bardhaman  118.0904  ...              3242.24    1361.138\n",
              "10            Bankura  117.6115  ...              2701.24     794.716\n",
              "11            Purulia  109.8540  ...              2141.85     597.889\n",
              "12              Hugli  128.4050  ...              3053.53     580.845\n",
              "13              Haora  133.5379  ...              2485.50     176.630\n",
              "14  North 24 Parganas  134.0477  ...              2873.51     401.623\n",
              "15  South 24 Parganas  116.9631  ...              2440.98     794.541\n",
              "16          Medinipur  130.8080  ...              2717.67     546.260\n",
              "\n",
              "[17 rows x 10 columns]"
            ]
          },
          "metadata": {
            "tags": []
          },
          "execution_count": 3
        }
      ]
    },
    {
      "cell_type": "markdown",
      "metadata": {
        "id": "KS_1J76ZKqrI",
        "colab_type": "text"
      },
      "source": [
        "## Showing correlation between dependent and independent variables"
      ]
    },
    {
      "cell_type": "code",
      "metadata": {
        "id": "y0bzzQ-IKr2_",
        "colab_type": "code",
        "colab": {}
      },
      "source": [
        "import matplotlib.pyplot as plt\n",
        "%matplotlib inline\n",
        "import seaborn as sb"
      ],
      "execution_count": 0,
      "outputs": []
    },
    {
      "cell_type": "code",
      "metadata": {
        "id": "QRO4SCwDK7zf",
        "colab_type": "code",
        "outputId": "222c0b3b-ebb1-4a58-b11c-85faad05fc68",
        "colab": {
          "base_uri": "https://localhost:8080/",
          "height": 375
        }
      },
      "source": [
        "sb.heatmap(df.corr(),annot=True)"
      ],
      "execution_count": 46,
      "outputs": [
        {
          "output_type": "execute_result",
          "data": {
            "text/plain": [
              "<matplotlib.axes._subplots.AxesSubplot at 0x7f26b0f036d8>"
            ]
          },
          "metadata": {
            "tags": []
          },
          "execution_count": 46
        },
        {
          "output_type": "display_data",
          "data": {
            "image/png": "[encoded data removed]",
            "text/plain": [
              "<Figure size 432x288 with 2 Axes>"
            ]
          },
          "metadata": {
            "tags": []
          }
        }
      ]
    },
    {
      "cell_type": "code",
      "metadata": {
        "id": "-qUZ_-gIMxzl",
        "colab_type": "code",
        "outputId": "26b9c694-f833-4670-8a50-418e39013656",
        "colab": {
          "base_uri": "https://localhost:8080/",
          "height": 1000
        }
      },
      "source": [
        "plt.scatter(df['Area(sq km)'],df['Production'],color='red')\n",
        "plt.title(\"Area Vs Production\")\n",
        "plt.xlabel(\"Area\")\n",
        "plt.ylabel(\"Production\")\n",
        "plt.grid()\n",
        "plt.show()\n",
        "plt.scatter(df['Yield_Rate(Kg/Hect)'],df['Production'],color='red')\n",
        "plt.title(\"Yield_Rate Vs Production\")\n",
        "plt.xlabel(\"Yield_Rate\")\n",
        "plt.ylabel(\"Production\")\n",
        "plt.grid()\n",
        "plt.show()\n",
        "plt.scatter(df['Temperature(avg)'],df['Production'],color='green')\n",
        "plt.title(\"Temperature Vs Production\")\n",
        "plt.xlabel(\"Temperature\")\n",
        "plt.ylabel(\"Production\")\n",
        "plt.grid()\n",
        "plt.show()\n",
        "plt.scatter(df['Rainfall'],df['Production'],color='green')\n",
        "plt.title(\"Precipitation Vs Production\")\n",
        "plt.xlabel(\"Precipitation\")\n",
        "plt.ylabel(\"Production\")\n",
        "plt.grid()\n",
        "plt.show()\n",
        "plt.scatter(df['Humidity'],df['Production'],color='blue')\n",
        "plt.title(\"Humidity Vs Production\")\n",
        "plt.xlabel(\"Humidity\")\n",
        "plt.ylabel(\"Production\")\n",
        "plt.grid()\n",
        "plt.show()\n",
        "plt.scatter(df['Soil_pH'],df['Production'],color='red')\n",
        "plt.title(\"Soil_pH Vs Production\")\n",
        "plt.xlabel(\"Soil_pH\")\n",
        "plt.ylabel(\"Production\")\n",
        "plt.grid()\n",
        "plt.show()\n",
        "plt.scatter(df['Cloud_Coverage'],df['Production'],color='red')\n",
        "plt.title(\"Cloud_Coverage Vs Production\")\n",
        "plt.xlabel(\"Cloud_Coverage\")\n",
        "plt.ylabel(\"Production\")\n",
        "plt.grid()\n",
        "plt.show()\n",
        "plt.scatter(df['Vapour_Pressure'],df['Production'],color='red')\n",
        "plt.title(\"Vapour_Pressure Vs Production\")\n",
        "plt.xlabel(\"Vapour_Pressure\")\n",
        "plt.ylabel(\"Production\")\n",
        "plt.grid()\n",
        "plt.show()"
      ],
      "execution_count": 59,
      "outputs": [
        {
          "output_type": "display_data",
          "data": {
            "image/png": "[encoded data removed]",
            "text/plain": [
              "<Figure size 432x288 with 1 Axes>"
            ]
          },
          "metadata": {
            "tags": []
          }
        },
        {
          "output_type": "display_data",
          "data": {
            "image/png": "[encoded data removed]",
            "text/plain": [
              "<Figure size 432x288 with 1 Axes>"
            ]
          },
          "metadata": {
            "tags": []
          }
        },
        {
          "output_type": "display_data",
          "data": {
            "image/png": "[encoded data removed]",
            "text/plain": [
              "<Figure size 432x288 with 1 Axes>"
            ]
          },
          "metadata": {
            "tags": []
          }
        },
        {
          "output_type": "display_data",
          "data": {
            "image/png": "[encoded data removed]",
            "text/plain": [
              "<Figure size 432x288 with 1 Axes>"
            ]
          },
          "metadata": {
            "tags": []
          }
        },
        {
          "output_type": "display_data",
          "data": {
            "image/png": "[encoded data removed]",
            "text/plain": [
              "<Figure size 432x288 with 1 Axes>"
            ]
          },
          "metadata": {
            "tags": []
          }
        },
        {
          "output_type": "display_data",
          "data": {
            "image/png": "[encoded data removed]",
            "text/plain": [
              "<Figure size 432x288 with 1 Axes>"
            ]
          },
          "metadata": {
            "tags": []
          }
        },
        {
          "output_type": "display_data",
          "data": {
            "image/png": "[encoded data removed]",
            "text/plain": [
              "<Figure size 432x288 with 1 Axes>"
            ]
          },
          "metadata": {
            "tags": []
          }
        },
        {
          "output_type": "display_data",
          "data": {
            "image/png": "[encoded data removed]",
            "text/plain": [
              "<Figure size 432x288 with 1 Axes>"
            ]
          },
          "metadata": {
            "tags": []
          }
        }
      ]
    },
    {
      "cell_type": "markdown",
      "metadata": {
        "id": "nTXD2JX4HefM",
        "colab_type": "text"
      },
      "source": [
        "##APPLYING LINEAR REGRESSION"
      ]
    },
    {
      "cell_type": "code",
      "metadata": {
        "id": "CA9SCDWLE_SR",
        "colab_type": "code",
        "colab": {}
      },
      "source": [
        "from sklearn import linear_model\n",
        "from sklearn.model_selection import train_test_split\n",
        "from sklearn.metrics import r2_score,accuracy_score"
      ],
      "execution_count": 0,
      "outputs": []
    },
    {
      "cell_type": "code",
      "metadata": {
        "id": "-vqi3UsXO3oc",
        "colab_type": "code",
        "outputId": "6d3a74c3-cfc8-43df-ef7c-8932349ea39a",
        "colab": {
          "base_uri": "https://localhost:8080/",
          "height": 158
        }
      },
      "source": [
        "X = df[['Rainfall']] \n",
        "Y = df['Production']\n",
        " \n",
        "x_train,x_test,y_train,y_test=train_test_split(X,Y, test_size=0.2, random_state=1)\n",
        "reg=linear_model.LinearRegression()\n",
        "reg.fit(x_train,y_train)\n",
        "  \n",
        "\n",
        "\n",
        "\n",
        "# prediction\n",
        "y_pred=reg.predict(x_test)\n",
        "print('Predicted Production:',y_pred,'\\n')\n",
        "\n",
        "# Coefficients\n",
        "print('\\nCoefficients: ', reg.coef_,'\\n')\n",
        "\n",
        "# R-squared score\n",
        "print('\\nR-squared score: ', r2_score(y_test,y_pred),'\\n')\n"
      ],
      "execution_count": 8,
      "outputs": [
        {
          "output_type": "stream",
          "text": [
            "Predicted Production: [647.30339918 610.43942914 702.97136563 302.06557282] \n",
            "\n",
            "\n",
            "Coefficients:  [-7.03900442] \n",
            "\n",
            "\n",
            "R-squared score:  -4.88414351845448 \n",
            "\n"
          ],
          "name": "stdout"
        }
      ]
    },
    {
      "cell_type": "code",
      "metadata": {
        "id": "hPCe5jD3O_xz",
        "colab_type": "code",
        "outputId": "e7174c26-6930-4546-aa3f-b2d086a76465",
        "colab": {
          "base_uri": "https://localhost:8080/",
          "height": 158
        }
      },
      "source": [
        "X = df[['Temperature(avg)']] \n",
        "Y = df['Production']\n",
        " \n",
        "x_train,x_test,y_train,y_test=train_test_split(X,Y, test_size=0.2, random_state=1)\n",
        "reg=linear_model.LinearRegression()\n",
        "reg.fit(x_train,y_train)\n",
        "  \n",
        "\n",
        "\n",
        "\n",
        "# prediction\n",
        "y_pred=reg.predict(x_test)\n",
        "print('Predicted Production:',y_pred,'\\n')\n",
        "\n",
        "# Coefficients\n",
        "print('\\nCoefficients: ', reg.coef_,'\\n')\n",
        "\n",
        "# R-squared score\n",
        "print('\\nR-squared score: ', r2_score(y_test,y_pred),'\\n')\n"
      ],
      "execution_count": 60,
      "outputs": [
        {
          "output_type": "stream",
          "text": [
            "Predicted Production: [438.21866119 633.69892415 575.94339191 495.97419343] \n",
            "\n",
            "\n",
            "Coefficients:  [44.42733249] \n",
            "\n",
            "\n",
            "R-squared score:  0.7510885466900821 \n",
            "\n"
          ],
          "name": "stdout"
        }
      ]
    },
    {
      "cell_type": "code",
      "metadata": {
        "id": "CdoboUkaPt64",
        "colab_type": "code",
        "outputId": "9317294e-2399-4a85-b2e9-70b049f9e1ec",
        "colab": {
          "base_uri": "https://localhost:8080/",
          "height": 158
        }
      },
      "source": [
        "X = df[['Humidity']] \n",
        "Y = df['Production']\n",
        " \n",
        "x_train,x_test,y_train,y_test=train_test_split(X,Y, test_size=0.2, random_state=1)\n",
        "reg=linear_model.LinearRegression()\n",
        "reg.fit(x_train,y_train)\n",
        "  \n",
        "\n",
        "\n",
        "\n",
        "# prediction\n",
        "y_pred=reg.predict(x_test)\n",
        "print('Predicted Production:',y_pred,'\\n')\n",
        "\n",
        "# Coefficients\n",
        "print('\\nCoefficients: ', reg.coef_,'\\n')\n",
        "\n",
        "# R-squared score\n",
        "print('\\nR-squared score: ', r2_score(y_test,y_pred),'\\n')\n"
      ],
      "execution_count": 10,
      "outputs": [
        {
          "output_type": "stream",
          "text": [
            "Predicted Production: [760.87611224 813.06848726 552.10661214 343.33711205] \n",
            "\n",
            "\n",
            "Coefficients:  [-17.39745834] \n",
            "\n",
            "\n",
            "R-squared score:  -6.813554513914552 \n",
            "\n"
          ],
          "name": "stdout"
        }
      ]
    },
    {
      "cell_type": "code",
      "metadata": {
        "id": "Ex7_ZlCRP2dW",
        "colab_type": "code",
        "outputId": "d26d35b4-274a-42e6-f66f-f5e00a222260",
        "colab": {
          "base_uri": "https://localhost:8080/",
          "height": 158
        }
      },
      "source": [
        "X = df[['Area(sq km)']] \n",
        "Y = df['Production']\n",
        " \n",
        "x_train,x_test,y_train,y_test=train_test_split(X,Y, test_size=0.2, random_state=1)\n",
        "reg=linear_model.LinearRegression()\n",
        "reg.fit(x_train,y_train)\n",
        "  \n",
        "\n",
        "\n",
        "\n",
        "# prediction\n",
        "y_pred=reg.predict(x_test)\n",
        "print('Predicted Production:',y_pred,'\\n')\n",
        "\n",
        "# Coefficients\n",
        "print('\\nCoefficients: ', reg.coef_,'\\n')\n",
        "\n",
        "# R-squared score\n",
        "print('\\nR-squared score: ', r2_score(y_test,y_pred),'\\n')\n"
      ],
      "execution_count": 48,
      "outputs": [
        {
          "output_type": "stream",
          "text": [
            "Predicted Production: [413.14101565 372.36462159 489.96125626 464.14736084] \n",
            "\n",
            "\n",
            "Coefficients:  [0.04780351] \n",
            "\n",
            "\n",
            "R-squared score:  -2.2128821122187503 \n",
            "\n"
          ],
          "name": "stdout"
        }
      ]
    },
    {
      "cell_type": "code",
      "metadata": {
        "id": "7OtMkQS_P-6t",
        "colab_type": "code",
        "outputId": "efed5d5b-17e0-49a4-c827-8568a754c896",
        "colab": {
          "base_uri": "https://localhost:8080/",
          "height": 158
        }
      },
      "source": [
        "X = df[['Soil_pH']] \n",
        "Y = df['Production']\n",
        " \n",
        "x_train,x_test,y_train,y_test=train_test_split(X,Y, test_size=0.2, random_state=1)\n",
        "reg=linear_model.LinearRegression()\n",
        "reg.fit(x_train,y_train)\n",
        "  \n",
        "\n",
        "\n",
        "\n",
        "# prediction\n",
        "y_pred=reg.predict(x_test)\n",
        "print('Predicted Production:',y_pred,'\\n')\n",
        "\n",
        "# Coefficients\n",
        "print('\\nCoefficients: ', reg.coef_,'\\n')\n",
        "\n",
        "# R-squared score\n",
        "print('\\nR-squared score: ', r2_score(y_test,y_pred),'\\n')\n"
      ],
      "execution_count": 13,
      "outputs": [
        {
          "output_type": "stream",
          "text": [
            "Predicted Production: [587.94642473 608.27107567 606.13163873 520.5541611 ] \n",
            "\n",
            "\n",
            "Coefficients:  [106.97184703] \n",
            "\n",
            "\n",
            "R-squared score:  -3.0674328541224467 \n",
            "\n"
          ],
          "name": "stdout"
        }
      ]
    },
    {
      "cell_type": "code",
      "metadata": {
        "id": "BKfd-ocoQKIz",
        "colab_type": "code",
        "outputId": "fb176bf2-d985-449b-ba48-71a5ccba4f94",
        "colab": {
          "base_uri": "https://localhost:8080/",
          "height": 158
        }
      },
      "source": [
        "X = df[['Vapour_Pressure']] \n",
        "Y = df['Production']\n",
        " \n",
        "x_train,x_test,y_train,y_test=train_test_split(X,Y, test_size=0.2, random_state=1)\n",
        "reg=linear_model.LinearRegression()\n",
        "reg.fit(x_train,y_train)\n",
        "  \n",
        "\n",
        "\n",
        "  \n",
        "\n",
        "# prediction\n",
        "y_pred=reg.predict(x_test)\n",
        "print('Predicted Production:',y_pred,'\\n')\n",
        "\n",
        "# Coefficients\n",
        "print('\\nCoefficients: ', reg.coef_,'\\n')\n",
        "\n",
        "# R-squared score\n",
        "print('\\nR-squared score: ', r2_score(y_test,y_pred),'\\n')\n"
      ],
      "execution_count": 14,
      "outputs": [
        {
          "output_type": "stream",
          "text": [
            "Predicted Production: [484.27447857 705.60440052 484.27447857 706.64000883] \n",
            "\n",
            "\n",
            "Coefficients:  [0.60918136] \n",
            "\n",
            "\n",
            "R-squared score:  -3.7077250018458017 \n",
            "\n"
          ],
          "name": "stdout"
        }
      ]
    },
    {
      "cell_type": "code",
      "metadata": {
        "id": "eKmRGaB_QXVs",
        "colab_type": "code",
        "outputId": "9d309c96-0384-45f9-9231-ad4643230d5c",
        "colab": {
          "base_uri": "https://localhost:8080/",
          "height": 158
        }
      },
      "source": [
        "X = df[['Cloud_Coverage']] \n",
        "Y = df['Production']\n",
        " \n",
        "x_train,x_test,y_train,y_test=train_test_split(X,Y, test_size=0.2, random_state=1)\n",
        "reg=linear_model.LinearRegression()\n",
        "reg.fit(x_train,y_train)\n",
        "  \n",
        "\n",
        "\n",
        "\n",
        "# prediction\n",
        "y_pred=reg.predict(x_test)\n",
        "print('Predicted Production:',y_pred,'\\n')\n",
        "\n",
        "# Coefficients\n",
        "print('\\nCoefficients: ', reg.coef_,'\\n')\n",
        "\n",
        "# R-squared score\n",
        "print('\\nR-squared score: ', r2_score(y_test,y_pred),'\\n')\n"
      ],
      "execution_count": 15,
      "outputs": [
        {
          "output_type": "stream",
          "text": [
            "Predicted Production: [552.87482151 751.00712652 552.87482151 756.42231813] \n",
            "\n",
            "\n",
            "Coefficients:  [5.41519162] \n",
            "\n",
            "\n",
            "R-squared score:  -5.173266258739897 \n",
            "\n"
          ],
          "name": "stdout"
        }
      ]
    },
    {
      "cell_type": "code",
      "metadata": {
        "id": "wBUvGcgGQkKt",
        "colab_type": "code",
        "outputId": "3df70fbc-9e25-48d2-e82a-9286738cb2ef",
        "colab": {
          "base_uri": "https://localhost:8080/",
          "height": 158
        }
      },
      "source": [
        "X = df[['Yield_Rate(Kg/Hect)']] \n",
        "Y = df['Production']\n",
        " \n",
        "x_train,x_test,y_train,y_test=train_test_split(X,Y, test_size=0.2, random_state=1)\n",
        "reg=linear_model.LinearRegression()\n",
        "reg.fit(x_train,y_train)\n",
        "  \n",
        "\n",
        "# prediction\n",
        "y_pred=reg.predict(x_test)\n",
        "print('Predicted Production:',y_pred,'\\n')\n",
        "\n",
        "# Coefficients\n",
        "print('\\nCoefficients: ', reg.coef_,'\\n')\n",
        "\n",
        "# R-squared score\n",
        "print('\\nR-squared score: ', r2_score(y_test,y_pred),'\\n')\n"
      ],
      "execution_count": 16,
      "outputs": [
        {
          "output_type": "stream",
          "text": [
            "Predicted Production: [549.79960912 503.41914197 672.96884298 456.05804186] \n",
            "\n",
            "\n",
            "Coefficients:  [0.43390838] \n",
            "\n",
            "\n",
            "R-squared score:  -2.6134445413054923 \n",
            "\n"
          ],
          "name": "stdout"
        }
      ]
    },
    {
      "cell_type": "markdown",
      "metadata": {
        "id": "x-t8D6Xrgwi1",
        "colab_type": "text"
      },
      "source": [
        "## Multivariate Linear Regression"
      ]
    },
    {
      "cell_type": "code",
      "metadata": {
        "id": "jJoJfeyXHoDa",
        "colab_type": "code",
        "outputId": "86edc66c-f91f-4aa9-cd94-9706782d7005",
        "colab": {
          "base_uri": "https://localhost:8080/",
          "height": 176
        }
      },
      "source": [
        "X = df[['Area(sq km)','Rainfall'\t,'Temperature(avg)'\t,'Humidity' ,'Soil_pH','Vapour_Pressure','Cloud_Coverage','Yield_Rate(Kg/Hect)']] \n",
        "Y = df['Production']\n",
        " \n",
        "x_train,x_test,y_train,y_test=train_test_split(X,Y, test_size=0.2, random_state=1)\n",
        "reg=linear_model.LinearRegression()\n",
        "reg.fit(x_train,y_train)\n",
        "  \n",
        "\n",
        "\n",
        "\n",
        "# prediction\n",
        "y_pred=reg.predict(x_test)\n",
        "print('Predicted Production:',y_pred,'\\n')\n",
        "\n",
        "# Coefficients\n",
        "print('\\nCoefficients: ', reg.coef_,'\\n')\n",
        "\n",
        "# R-squared score\n",
        "print('\\nR-squared score: ', r2_score(y_test,y_pred),'\\n')\n",
        "\n"
      ],
      "execution_count": 49,
      "outputs": [
        {
          "output_type": "stream",
          "text": [
            "Predicted Production: [377.4270756  474.84913362 543.18513797 392.83091569] \n",
            "\n",
            "\n",
            "Coefficients:  [ 3.67394560e-02 -1.77586629e+00  3.25365516e+01 -2.88341139e-01\n",
            " -4.25763489e+01  8.37165903e-03 -7.24227994e-02  8.83562621e-03] \n",
            "\n",
            "\n",
            "R-squared score:  -0.7646143352413259 \n",
            "\n"
          ],
          "name": "stdout"
        }
      ]
    },
    {
      "cell_type": "code",
      "metadata": {
        "id": "W-NOFEoNOGEC",
        "colab_type": "code",
        "outputId": "db1c389f-70e9-4c70-f42d-b753fd654965",
        "colab": {
          "base_uri": "https://localhost:8080/",
          "height": 176
        }
      },
      "source": [
        "X = df[['Area(sq km)','Rainfall'\t,'Temperature(avg)'\t,'Humidity' ,'Soil_pH','Cloud_Coverage','Yield_Rate(Kg/Hect)']] \n",
        "Y = df['Production']\n",
        " \n",
        "x_train,x_test,y_train,y_test=train_test_split(X,Y, test_size=0.2, random_state=1)\n",
        "reg=linear_model.LinearRegression()\n",
        "reg.fit(x_train,y_train)\n",
        "  \n",
        "\n",
        "\n",
        "\n",
        "# prediction\n",
        "y_pred=reg.predict(x_test)\n",
        "print('Predicted Production:',y_pred,'\\n')\n",
        "\n",
        "# Coefficients\n",
        "print('\\nCoefficients: ', reg.coef_,'\\n')\n",
        "\n",
        "# R-squared score\n",
        "print('\\nR-squared score: ', r2_score(y_test,y_pred),'\\n')\n"
      ],
      "execution_count": 53,
      "outputs": [
        {
          "output_type": "stream",
          "text": [
            "Predicted Production: [380.26945277 474.16881051 545.87219683 393.82372901] \n",
            "\n",
            "\n",
            "Coefficients:  [ 3.67692069e-02 -1.82274851e+00  3.20683342e+01 -2.38252514e-01\n",
            " -4.37442557e+01  3.28204787e-02  1.05091927e-02] \n",
            "\n",
            "\n",
            "R-squared score:  -0.7337471444059163 \n",
            "\n"
          ],
          "name": "stdout"
        }
      ]
    },
    {
      "cell_type": "code",
      "metadata": {
        "id": "enMiTIYkg7Jq",
        "colab_type": "code",
        "colab": {
          "base_uri": "https://localhost:8080/",
          "height": 158
        },
        "outputId": "e6fb577e-2c06-4014-ba90-219d67298696"
      },
      "source": [
        "from sklearn.preprocessing import PolynomialFeatures\n",
        "poly_reg=PolynomialFeatures(degree=4)\n",
        "poly_x=poly_reg.fit_transform(x_train)\n",
        "poly_reg.fit(poly_x,y_train)\n",
        "\n",
        "\n",
        "reg2=linear_model.LinearRegression()\n",
        "reg2.fit(poly_x,y_train)\n",
        "\n",
        "y_pred=reg2.predict(poly_reg.fit_transform(x_test))\n",
        "  \n",
        "print(y_pred)\n",
        "\n",
        "# Coefficients\n",
        "print('\\nCoefficients: ', reg.coef_,'\\n')\n",
        "\n",
        "# R-squared score\n",
        "print('\\nR-squared score: ', r2_score(y_test,y_pred),'\\n')\n"
      ],
      "execution_count": 34,
      "outputs": [
        {
          "output_type": "stream",
          "text": [
            "[357.52300516 593.86805648 385.7243542    2.23562327]\n",
            "\n",
            "Coefficients:  [-3.57107013e+00 -3.30584926e+00 -4.84177195e+00  9.51694989e-02\n",
            " -1.34590823e+02  3.39372103e+00  3.86221184e-01] \n",
            "\n",
            "\n",
            "R-squared score:  -5.026517990258604 \n",
            "\n"
          ],
          "name": "stdout"
        }
      ]
    },
    {
      "cell_type": "markdown",
      "metadata": {
        "id": "niHG9G5gdLdM",
        "colab_type": "text"
      },
      "source": [
        "\n",
        "## Regression (Predicting Production for each District without taking that District as training data) :\n"
      ]
    },
    {
      "cell_type": "code",
      "metadata": {
        "id": "UL1bl0EhUsb_",
        "colab_type": "code",
        "outputId": "3e66ffbb-b106-4d79-c489-08a7c93df7de",
        "colab": {
          "base_uri": "https://localhost:8080/",
          "height": 621
        }
      },
      "source": [
        "error=[]\n",
        "for i in range(0,17):\n",
        "  A_test=df[['Rainfall'\t,'Temperature(avg)'\t,'Humidity','Area(sq km)' ,'Soil_pH','Cloud_Coverage','Yield_Rate(Kg/Hect)']].iloc[df.index==i]\n",
        "  b_test=df.iloc[df.index==i]['Production']\n",
        "  A_train=df[['Rainfall'\t,'Temperature(avg)'\t,'Humidity','Area(sq km)' ,'Soil_pH','Cloud_Coverage','Yield_Rate(Kg/Hect)']].drop([i],axis=0)\n",
        "  b_train=df.drop([i])['Production']\n",
        "\n",
        "  reg=linear_model.LinearRegression()\n",
        "  reg.fit(A_train,b_train)\n",
        "  # prediction\n",
        "  b_pred=reg.predict(A_test)\n",
        "  print('~ District:',df.at[i,'District'],'-\\n','Predicted Production:',b_pred,', ','Actual Production:',[df.loc[i,'Production']],', ','Error: ',b_pred-df.loc[i,'Production'])\n",
        "  error.append(float(b_pred-df.loc[i,'Production']))\n",
        "  "
      ],
      "execution_count": 56,
      "outputs": [
        {
          "output_type": "stream",
          "text": [
            "~ District: Darjeeling -\n",
            " Predicted Production: [45.23350615] ,  Actual Production: [56.945] ,  Error:  [-11.71149385]\n",
            "~ District: Jalpaiguri -\n",
            " Predicted Production: [591.57349847] ,  Actual Production: [433.939] ,  Error:  [157.63449847]\n",
            "~ District: Koch Bihar -\n",
            " Predicted Production: [420.21071677] ,  Actual Production: [515.777] ,  Error:  [-95.56628323]\n",
            "~ District: Uttar Dinajpur -\n",
            " Predicted Production: [379.90966041] ,  Actual Production: [420.273] ,  Error:  [-40.36333959]\n",
            "~ District: Dakshin Dinajpur -\n",
            " Predicted Production: [390.11292754] ,  Actual Production: [442.884] ,  Error:  [-52.77107246]\n",
            "~ District: Maldah -\n",
            " Predicted Production: [631.04987698] ,  Actual Production: [557.341] ,  Error:  [73.70887698]\n",
            "~ District: Murshidabad -\n",
            " Predicted Production: [505.92078837] ,  Actual Production: [516.541] ,  Error:  [-10.62021163]\n",
            "~ District: Nadia -\n",
            " Predicted Production: [547.10067489] ,  Actual Production: [573.137] ,  Error:  [-26.03632511]\n",
            "~ District: Birbhum -\n",
            " Predicted Production: [693.44275724] ,  Actual Production: [529.374] ,  Error:  [164.06875724]\n",
            "~ District: Bardhaman -\n",
            " Predicted Production: [682.37217403] ,  Actual Production: [861.138] ,  Error:  [-178.76582597]\n",
            "~ District: Bankura -\n",
            " Predicted Production: [687.50009574] ,  Actual Production: [794.716] ,  Error:  [-107.21590426]\n",
            "~ District: Purulia -\n",
            " Predicted Production: [840.01590871] ,  Actual Production: [697.889] ,  Error:  [142.12690871]\n",
            "~ District: Hugli -\n",
            " Predicted Production: [582.64221524] ,  Actual Production: [580.845] ,  Error:  [1.79721524]\n",
            "~ District: Haora -\n",
            " Predicted Production: [525.17355465] ,  Actual Production: [576.63] ,  Error:  [-51.45644535]\n",
            "~ District: North 24 Parganas -\n",
            " Predicted Production: [820.1836851] ,  Actual Production: [501.623] ,  Error:  [318.5606851]\n",
            "~ District: South 24 Parganas -\n",
            " Predicted Production: [734.4688956] ,  Actual Production: [594.541] ,  Error:  [139.9278956]\n",
            "~ District: Medinipur -\n",
            " Predicted Production: [638.25514682] ,  Actual Production: [546.26] ,  Error:  [91.99514682]\n"
          ],
          "name": "stdout"
        }
      ]
    },
    {
      "cell_type": "markdown",
      "metadata": {
        "id": "3E84hLzLdamp",
        "colab_type": "text"
      },
      "source": [
        "**Mean Squared Error:**"
      ]
    },
    {
      "cell_type": "code",
      "metadata": {
        "id": "zt38hu14anKP",
        "colab_type": "code",
        "outputId": "8fcf908b-98f9-4049-964c-ca01627b3d17",
        "colab": {
          "base_uri": "https://localhost:8080/",
          "height": 90
        }
      },
      "source": [
        "import math\n",
        "print(list(error))\n",
        "\n",
        "total_error=0\n",
        "for i in error:\n",
        "  total_error=total_error+(i*i)\n",
        "  \n",
        "mean_squared_error=math.sqrt(total_error/13)\n",
        "\n",
        "print(\"\\nMean Squared Error: \",mean_squared_error)"
      ],
      "execution_count": 57,
      "outputs": [
        {
          "output_type": "stream",
          "text": [
            "[-11.711493848262599, 157.63449847211376, -95.56628322563978, -40.363339591335944, -52.77107245695345, 73.70887698492982, -10.620211629783626, -26.0363251146714, 164.06875723613814, -178.7658259714268, -107.21590425959812, 142.12690870968993, 1.7972152429346124, -51.4564453487385, 318.5606851003702, 139.92789560379697, 91.995146816805]\n",
            "\n",
            "Mean Squared Error:  143.44719918824498\n"
          ],
          "name": "stdout"
        }
      ]
    }
  ]
}