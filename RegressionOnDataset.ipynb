{
  "nbformat": 4,
  "nbformat_minor": 0,
  "metadata": {
    "colab": {
      "name": "RegressionOnDataset.ipynb",
      "provenance": [],
      "collapsed_sections": [],
      "include_colab_link": true
    },
    "kernelspec": {
      "display_name": "Python 3",
      "language": "python",
      "name": "python3"
    },
    "language_info": {
      "codemirror_mode": {
        "name": "ipython",
        "version": 3
      },
      "file_extension": ".py",
      "mimetype": "text/x-python",
      "name": "python",
      "nbconvert_exporter": "python",
      "pygments_lexer": "ipython3",
      "version": "3.7.3"
    }
  },
  "cells": [
    {
      "cell_type": "markdown",
      "metadata": {
        "id": "view-in-github",
        "colab_type": "text"
      },
      "source": [
        "<a href=\"https://colab.research.google.com/github/disha2sinha/Yield-prediction-2/blob/master/RegressionOnDataset.ipynb\" target=\"_parent\"><img src=\"https://colab.research.google.com/assets/colab-badge.svg\" alt=\"Open In Colab\"/></a>"
      ]
    },
    {
      "cell_type": "code",
      "metadata": {
        "colab_type": "code",
        "id": "H-YyDIQRFKgM",
        "colab": {}
      },
      "source": [
        "import numpy as np\n",
        "import pandas as pd"
      ],
      "execution_count": 0,
      "outputs": []
    },
    {
      "cell_type": "code",
      "metadata": {
        "colab_type": "code",
        "id": "joEtmOz2FUDv",
        "outputId": "857fd2ca-cbfd-4be1-d075-b16f2b1331c2",
        "colab": {
          "base_uri": "https://localhost:8080/",
          "height": 582
        }
      },
      "source": [
        "data={\n",
        "    'District':['Darjeeling','Jalpaiguri','Koch Bihar','Uttar Dinajpur','Dakshin Dinajpur','Maldah','Murshidabad','Nadia','Birbhum','Bardhaman','Bankura','Purulia','Hugli','Haora','North 24 Parganas','South 24 Parganas','Medinipur'],\n",
        "    'Rainfall':[174.9025,195.2306,177.3472,128.3008,124.4917,114.9917,117.4706,120.3923,115.0348,118.0904,117.6115,109.8540,128.4050,133.5379,134.0477,116.9631,130.8080],\n",
        "    'Temperature(avg)':[17.5,26.3,27.5,26.2,26.6,30.4,28.2,29.3,30.6,32.3,31.6,31.7,30.5,30.6,31.2,27.1,30.75],\n",
        "    'Humidity':[92,94,96,72,74,87,83,84,71,77,71,85,76,69,68,79,76],\n",
        "    'Area(sq km)':[3149,6227,3387,2320,2219,3733,5324,3927,4545,7024,6882,6259,3149,1467,4094,9960,4061],\n",
        "    'Soil_pH':[5.92,4.62,5.2,5.83,5.87,6.0,7.05,6.0,5.75,6.5,6.23,6.35,6.12,6.02,7.12,7.38,6.12],\n",
        "    'Cloud_Coverage':[0,75,75,0,0,25,0,0,50,63,50,0,74,74,0,75,75],\n",
        "    'Vapour_Pressure':[867.4,1007.8,1008.5,0,0,1008.5,0,0,1007.8,1004.8,1006.5,0,1006.6,1006.8,0,1007.3,1007.1],\n",
        "    'Yield_Rate(Kg/Hect)':[2098.58,2459.69,2376.35,2592.39,2829.67,3233.12,3081.66,2876.25,3262.04,3242.24,2701.24,2141.85,3053.53,2485.50,2873.51,2440.98,2717.67],#aman paddy\n",
        "    'Production':[56.945,433.939,515.777,466.273,462.884,457.341,686.341,273.137,1029.374,1361.138,794.716,597.889,580.845,176.630,401.623,794.541,546.260]\n",
        "}\n",
        "df=pd.DataFrame(data)\n",
        "df"
      ],
      "execution_count": 0,
      "outputs": [
        {
          "output_type": "execute_result",
          "data": {
            "text/html": [
              "<div>\n",
              "<style scoped>\n",
              "    .dataframe tbody tr th:only-of-type {\n",
              "        vertical-align: middle;\n",
              "    }\n",
              "\n",
              "    .dataframe tbody tr th {\n",
              "        vertical-align: top;\n",
              "    }\n",
              "\n",
              "    .dataframe thead th {\n",
              "        text-align: right;\n",
              "    }\n",
              "</style>\n",
              "<table border=\"1\" class=\"dataframe\">\n",
              "  <thead>\n",
              "    <tr style=\"text-align: right;\">\n",
              "      <th></th>\n",
              "      <th>District</th>\n",
              "      <th>Rainfall</th>\n",
              "      <th>Temperature(avg)</th>\n",
              "      <th>Humidity</th>\n",
              "      <th>Area(sq km)</th>\n",
              "      <th>Soil_pH</th>\n",
              "      <th>Cloud_Coverage</th>\n",
              "      <th>Vapour_Pressure</th>\n",
              "      <th>Yield_Rate(Kg/Hect)</th>\n",
              "      <th>Production</th>\n",
              "    </tr>\n",
              "  </thead>\n",
              "  <tbody>\n",
              "    <tr>\n",
              "      <th>0</th>\n",
              "      <td>Darjeeling</td>\n",
              "      <td>174.9025</td>\n",
              "      <td>17.50</td>\n",
              "      <td>92</td>\n",
              "      <td>3149</td>\n",
              "      <td>5.92</td>\n",
              "      <td>0</td>\n",
              "      <td>867.4</td>\n",
              "      <td>2098.58</td>\n",
              "      <td>56.945</td>\n",
              "    </tr>\n",
              "    <tr>\n",
              "      <th>1</th>\n",
              "      <td>Jalpaiguri</td>\n",
              "      <td>195.2306</td>\n",
              "      <td>26.30</td>\n",
              "      <td>94</td>\n",
              "      <td>6227</td>\n",
              "      <td>4.62</td>\n",
              "      <td>75</td>\n",
              "      <td>1007.8</td>\n",
              "      <td>2459.69</td>\n",
              "      <td>433.939</td>\n",
              "    </tr>\n",
              "    <tr>\n",
              "      <th>2</th>\n",
              "      <td>Koch Bihar</td>\n",
              "      <td>177.3472</td>\n",
              "      <td>27.50</td>\n",
              "      <td>96</td>\n",
              "      <td>3387</td>\n",
              "      <td>5.20</td>\n",
              "      <td>75</td>\n",
              "      <td>1008.5</td>\n",
              "      <td>2376.35</td>\n",
              "      <td>515.777</td>\n",
              "    </tr>\n",
              "    <tr>\n",
              "      <th>3</th>\n",
              "      <td>Uttar Dinajpur</td>\n",
              "      <td>128.3008</td>\n",
              "      <td>26.20</td>\n",
              "      <td>72</td>\n",
              "      <td>2320</td>\n",
              "      <td>5.83</td>\n",
              "      <td>0</td>\n",
              "      <td>0.0</td>\n",
              "      <td>2592.39</td>\n",
              "      <td>466.273</td>\n",
              "    </tr>\n",
              "    <tr>\n",
              "      <th>4</th>\n",
              "      <td>Dakshin Dinajpur</td>\n",
              "      <td>124.4917</td>\n",
              "      <td>26.60</td>\n",
              "      <td>74</td>\n",
              "      <td>2219</td>\n",
              "      <td>5.87</td>\n",
              "      <td>0</td>\n",
              "      <td>0.0</td>\n",
              "      <td>2829.67</td>\n",
              "      <td>462.884</td>\n",
              "    </tr>\n",
              "    <tr>\n",
              "      <th>5</th>\n",
              "      <td>Maldah</td>\n",
              "      <td>114.9917</td>\n",
              "      <td>30.40</td>\n",
              "      <td>87</td>\n",
              "      <td>3733</td>\n",
              "      <td>6.00</td>\n",
              "      <td>25</td>\n",
              "      <td>1008.5</td>\n",
              "      <td>3233.12</td>\n",
              "      <td>457.341</td>\n",
              "    </tr>\n",
              "    <tr>\n",
              "      <th>6</th>\n",
              "      <td>Murshidabad</td>\n",
              "      <td>117.4706</td>\n",
              "      <td>28.20</td>\n",
              "      <td>83</td>\n",
              "      <td>5324</td>\n",
              "      <td>7.05</td>\n",
              "      <td>0</td>\n",
              "      <td>0.0</td>\n",
              "      <td>3081.66</td>\n",
              "      <td>686.341</td>\n",
              "    </tr>\n",
              "    <tr>\n",
              "      <th>7</th>\n",
              "      <td>Nadia</td>\n",
              "      <td>120.3923</td>\n",
              "      <td>29.30</td>\n",
              "      <td>84</td>\n",
              "      <td>3927</td>\n",
              "      <td>6.00</td>\n",
              "      <td>0</td>\n",
              "      <td>0.0</td>\n",
              "      <td>2876.25</td>\n",
              "      <td>273.137</td>\n",
              "    </tr>\n",
              "    <tr>\n",
              "      <th>8</th>\n",
              "      <td>Birbhum</td>\n",
              "      <td>115.0348</td>\n",
              "      <td>30.60</td>\n",
              "      <td>71</td>\n",
              "      <td>4545</td>\n",
              "      <td>5.75</td>\n",
              "      <td>50</td>\n",
              "      <td>1007.8</td>\n",
              "      <td>3262.04</td>\n",
              "      <td>1029.374</td>\n",
              "    </tr>\n",
              "    <tr>\n",
              "      <th>9</th>\n",
              "      <td>Bardhaman</td>\n",
              "      <td>118.0904</td>\n",
              "      <td>32.30</td>\n",
              "      <td>77</td>\n",
              "      <td>7024</td>\n",
              "      <td>6.50</td>\n",
              "      <td>63</td>\n",
              "      <td>1004.8</td>\n",
              "      <td>3242.24</td>\n",
              "      <td>1361.138</td>\n",
              "    </tr>\n",
              "    <tr>\n",
              "      <th>10</th>\n",
              "      <td>Bankura</td>\n",
              "      <td>117.6115</td>\n",
              "      <td>31.60</td>\n",
              "      <td>71</td>\n",
              "      <td>6882</td>\n",
              "      <td>6.23</td>\n",
              "      <td>50</td>\n",
              "      <td>1006.5</td>\n",
              "      <td>2701.24</td>\n",
              "      <td>794.716</td>\n",
              "    </tr>\n",
              "    <tr>\n",
              "      <th>11</th>\n",
              "      <td>Purulia</td>\n",
              "      <td>109.8540</td>\n",
              "      <td>31.70</td>\n",
              "      <td>85</td>\n",
              "      <td>6259</td>\n",
              "      <td>6.35</td>\n",
              "      <td>0</td>\n",
              "      <td>0.0</td>\n",
              "      <td>2141.85</td>\n",
              "      <td>597.889</td>\n",
              "    </tr>\n",
              "    <tr>\n",
              "      <th>12</th>\n",
              "      <td>Hugli</td>\n",
              "      <td>128.4050</td>\n",
              "      <td>30.50</td>\n",
              "      <td>76</td>\n",
              "      <td>3149</td>\n",
              "      <td>6.12</td>\n",
              "      <td>74</td>\n",
              "      <td>1006.6</td>\n",
              "      <td>3053.53</td>\n",
              "      <td>580.845</td>\n",
              "    </tr>\n",
              "    <tr>\n",
              "      <th>13</th>\n",
              "      <td>Haora</td>\n",
              "      <td>133.5379</td>\n",
              "      <td>30.60</td>\n",
              "      <td>69</td>\n",
              "      <td>1467</td>\n",
              "      <td>6.02</td>\n",
              "      <td>74</td>\n",
              "      <td>1006.8</td>\n",
              "      <td>2485.50</td>\n",
              "      <td>176.630</td>\n",
              "    </tr>\n",
              "    <tr>\n",
              "      <th>14</th>\n",
              "      <td>North 24 Parganas</td>\n",
              "      <td>134.0477</td>\n",
              "      <td>31.20</td>\n",
              "      <td>68</td>\n",
              "      <td>4094</td>\n",
              "      <td>7.12</td>\n",
              "      <td>0</td>\n",
              "      <td>0.0</td>\n",
              "      <td>2873.51</td>\n",
              "      <td>401.623</td>\n",
              "    </tr>\n",
              "    <tr>\n",
              "      <th>15</th>\n",
              "      <td>South 24 Parganas</td>\n",
              "      <td>116.9631</td>\n",
              "      <td>27.10</td>\n",
              "      <td>79</td>\n",
              "      <td>9960</td>\n",
              "      <td>7.38</td>\n",
              "      <td>75</td>\n",
              "      <td>1007.3</td>\n",
              "      <td>2440.98</td>\n",
              "      <td>794.541</td>\n",
              "    </tr>\n",
              "    <tr>\n",
              "      <th>16</th>\n",
              "      <td>Medinipur</td>\n",
              "      <td>130.8080</td>\n",
              "      <td>30.75</td>\n",
              "      <td>76</td>\n",
              "      <td>4061</td>\n",
              "      <td>6.12</td>\n",
              "      <td>75</td>\n",
              "      <td>1007.1</td>\n",
              "      <td>2717.67</td>\n",
              "      <td>546.260</td>\n",
              "    </tr>\n",
              "  </tbody>\n",
              "</table>\n",
              "</div>"
            ],
            "text/plain": [
              "             District  Rainfall  ...  Yield_Rate(Kg/Hect)  Production\n",
              "0          Darjeeling  174.9025  ...              2098.58      56.945\n",
              "1          Jalpaiguri  195.2306  ...              2459.69     433.939\n",
              "2          Koch Bihar  177.3472  ...              2376.35     515.777\n",
              "3      Uttar Dinajpur  128.3008  ...              2592.39     466.273\n",
              "4    Dakshin Dinajpur  124.4917  ...              2829.67     462.884\n",
              "5              Maldah  114.9917  ...              3233.12     457.341\n",
              "6         Murshidabad  117.4706  ...              3081.66     686.341\n",
              "7               Nadia  120.3923  ...              2876.25     273.137\n",
              "8             Birbhum  115.0348  ...              3262.04    1029.374\n",
              "9           Bardhaman  118.0904  ...              3242.24    1361.138\n",
              "10            Bankura  117.6115  ...              2701.24     794.716\n",
              "11            Purulia  109.8540  ...              2141.85     597.889\n",
              "12              Hugli  128.4050  ...              3053.53     580.845\n",
              "13              Haora  133.5379  ...              2485.50     176.630\n",
              "14  North 24 Parganas  134.0477  ...              2873.51     401.623\n",
              "15  South 24 Parganas  116.9631  ...              2440.98     794.541\n",
              "16          Medinipur  130.8080  ...              2717.67     546.260\n",
              "\n",
              "[17 rows x 10 columns]"
            ]
          },
          "metadata": {
            "tags": []
          },
          "execution_count": 2
        }
      ]
    },
    {
      "cell_type": "code",
      "metadata": {
        "id": "fE444au_JeXT",
        "colab_type": "code",
        "outputId": "0ea28647-4477-4771-bb79-71259d609ccb",
        "colab": {
          "base_uri": "https://localhost:8080/",
          "height": 582
        }
      },
      "source": [
        "# Data Cleaning\n",
        "\n",
        "df.loc[df.Vapour_Pressure==0,'Vapour_Pressure']=df.Vapour_Pressure.mean()\n",
        "df.loc[df.Cloud_Coverage==0,'Cloud_Coverage']=df.Cloud_Coverage.mean()\n",
        "df\n"
      ],
      "execution_count": 0,
      "outputs": [
        {
          "output_type": "execute_result",
          "data": {
            "text/html": [
              "<div>\n",
              "<style scoped>\n",
              "    .dataframe tbody tr th:only-of-type {\n",
              "        vertical-align: middle;\n",
              "    }\n",
              "\n",
              "    .dataframe tbody tr th {\n",
              "        vertical-align: top;\n",
              "    }\n",
              "\n",
              "    .dataframe thead th {\n",
              "        text-align: right;\n",
              "    }\n",
              "</style>\n",
              "<table border=\"1\" class=\"dataframe\">\n",
              "  <thead>\n",
              "    <tr style=\"text-align: right;\">\n",
              "      <th></th>\n",
              "      <th>District</th>\n",
              "      <th>Rainfall</th>\n",
              "      <th>Temperature(avg)</th>\n",
              "      <th>Humidity</th>\n",
              "      <th>Area(sq km)</th>\n",
              "      <th>Soil_pH</th>\n",
              "      <th>Cloud_Coverage</th>\n",
              "      <th>Vapour_Pressure</th>\n",
              "      <th>Yield_Rate(Kg/Hect)</th>\n",
              "      <th>Production</th>\n",
              "    </tr>\n",
              "  </thead>\n",
              "  <tbody>\n",
              "    <tr>\n",
              "      <th>0</th>\n",
              "      <td>Darjeeling</td>\n",
              "      <td>174.9025</td>\n",
              "      <td>17.50</td>\n",
              "      <td>92</td>\n",
              "      <td>3149</td>\n",
              "      <td>5.92</td>\n",
              "      <td>37.411765</td>\n",
              "      <td>867.400000</td>\n",
              "      <td>2098.58</td>\n",
              "      <td>56.945</td>\n",
              "    </tr>\n",
              "    <tr>\n",
              "      <th>1</th>\n",
              "      <td>Jalpaiguri</td>\n",
              "      <td>195.2306</td>\n",
              "      <td>26.30</td>\n",
              "      <td>94</td>\n",
              "      <td>6227</td>\n",
              "      <td>4.62</td>\n",
              "      <td>75.000000</td>\n",
              "      <td>1007.800000</td>\n",
              "      <td>2459.69</td>\n",
              "      <td>433.939</td>\n",
              "    </tr>\n",
              "    <tr>\n",
              "      <th>2</th>\n",
              "      <td>Koch Bihar</td>\n",
              "      <td>177.3472</td>\n",
              "      <td>27.50</td>\n",
              "      <td>96</td>\n",
              "      <td>3387</td>\n",
              "      <td>5.20</td>\n",
              "      <td>75.000000</td>\n",
              "      <td>1008.500000</td>\n",
              "      <td>2376.35</td>\n",
              "      <td>515.777</td>\n",
              "    </tr>\n",
              "    <tr>\n",
              "      <th>3</th>\n",
              "      <td>Uttar Dinajpur</td>\n",
              "      <td>128.3008</td>\n",
              "      <td>26.20</td>\n",
              "      <td>72</td>\n",
              "      <td>2320</td>\n",
              "      <td>5.83</td>\n",
              "      <td>37.411765</td>\n",
              "      <td>643.476471</td>\n",
              "      <td>2592.39</td>\n",
              "      <td>466.273</td>\n",
              "    </tr>\n",
              "    <tr>\n",
              "      <th>4</th>\n",
              "      <td>Dakshin Dinajpur</td>\n",
              "      <td>124.4917</td>\n",
              "      <td>26.60</td>\n",
              "      <td>74</td>\n",
              "      <td>2219</td>\n",
              "      <td>5.87</td>\n",
              "      <td>37.411765</td>\n",
              "      <td>643.476471</td>\n",
              "      <td>2829.67</td>\n",
              "      <td>462.884</td>\n",
              "    </tr>\n",
              "    <tr>\n",
              "      <th>5</th>\n",
              "      <td>Maldah</td>\n",
              "      <td>114.9917</td>\n",
              "      <td>30.40</td>\n",
              "      <td>87</td>\n",
              "      <td>3733</td>\n",
              "      <td>6.00</td>\n",
              "      <td>25.000000</td>\n",
              "      <td>1008.500000</td>\n",
              "      <td>3233.12</td>\n",
              "      <td>457.341</td>\n",
              "    </tr>\n",
              "    <tr>\n",
              "      <th>6</th>\n",
              "      <td>Murshidabad</td>\n",
              "      <td>117.4706</td>\n",
              "      <td>28.20</td>\n",
              "      <td>83</td>\n",
              "      <td>5324</td>\n",
              "      <td>7.05</td>\n",
              "      <td>37.411765</td>\n",
              "      <td>643.476471</td>\n",
              "      <td>3081.66</td>\n",
              "      <td>686.341</td>\n",
              "    </tr>\n",
              "    <tr>\n",
              "      <th>7</th>\n",
              "      <td>Nadia</td>\n",
              "      <td>120.3923</td>\n",
              "      <td>29.30</td>\n",
              "      <td>84</td>\n",
              "      <td>3927</td>\n",
              "      <td>6.00</td>\n",
              "      <td>37.411765</td>\n",
              "      <td>643.476471</td>\n",
              "      <td>2876.25</td>\n",
              "      <td>273.137</td>\n",
              "    </tr>\n",
              "    <tr>\n",
              "      <th>8</th>\n",
              "      <td>Birbhum</td>\n",
              "      <td>115.0348</td>\n",
              "      <td>30.60</td>\n",
              "      <td>71</td>\n",
              "      <td>4545</td>\n",
              "      <td>5.75</td>\n",
              "      <td>50.000000</td>\n",
              "      <td>1007.800000</td>\n",
              "      <td>3262.04</td>\n",
              "      <td>1029.374</td>\n",
              "    </tr>\n",
              "    <tr>\n",
              "      <th>9</th>\n",
              "      <td>Bardhaman</td>\n",
              "      <td>118.0904</td>\n",
              "      <td>32.30</td>\n",
              "      <td>77</td>\n",
              "      <td>7024</td>\n",
              "      <td>6.50</td>\n",
              "      <td>63.000000</td>\n",
              "      <td>1004.800000</td>\n",
              "      <td>3242.24</td>\n",
              "      <td>1361.138</td>\n",
              "    </tr>\n",
              "    <tr>\n",
              "      <th>10</th>\n",
              "      <td>Bankura</td>\n",
              "      <td>117.6115</td>\n",
              "      <td>31.60</td>\n",
              "      <td>71</td>\n",
              "      <td>6882</td>\n",
              "      <td>6.23</td>\n",
              "      <td>50.000000</td>\n",
              "      <td>1006.500000</td>\n",
              "      <td>2701.24</td>\n",
              "      <td>794.716</td>\n",
              "    </tr>\n",
              "    <tr>\n",
              "      <th>11</th>\n",
              "      <td>Purulia</td>\n",
              "      <td>109.8540</td>\n",
              "      <td>31.70</td>\n",
              "      <td>85</td>\n",
              "      <td>6259</td>\n",
              "      <td>6.35</td>\n",
              "      <td>37.411765</td>\n",
              "      <td>643.476471</td>\n",
              "      <td>2141.85</td>\n",
              "      <td>597.889</td>\n",
              "    </tr>\n",
              "    <tr>\n",
              "      <th>12</th>\n",
              "      <td>Hugli</td>\n",
              "      <td>128.4050</td>\n",
              "      <td>30.50</td>\n",
              "      <td>76</td>\n",
              "      <td>3149</td>\n",
              "      <td>6.12</td>\n",
              "      <td>74.000000</td>\n",
              "      <td>1006.600000</td>\n",
              "      <td>3053.53</td>\n",
              "      <td>580.845</td>\n",
              "    </tr>\n",
              "    <tr>\n",
              "      <th>13</th>\n",
              "      <td>Haora</td>\n",
              "      <td>133.5379</td>\n",
              "      <td>30.60</td>\n",
              "      <td>69</td>\n",
              "      <td>1467</td>\n",
              "      <td>6.02</td>\n",
              "      <td>74.000000</td>\n",
              "      <td>1006.800000</td>\n",
              "      <td>2485.50</td>\n",
              "      <td>176.630</td>\n",
              "    </tr>\n",
              "    <tr>\n",
              "      <th>14</th>\n",
              "      <td>North 24 Parganas</td>\n",
              "      <td>134.0477</td>\n",
              "      <td>31.20</td>\n",
              "      <td>68</td>\n",
              "      <td>4094</td>\n",
              "      <td>7.12</td>\n",
              "      <td>37.411765</td>\n",
              "      <td>643.476471</td>\n",
              "      <td>2873.51</td>\n",
              "      <td>401.623</td>\n",
              "    </tr>\n",
              "    <tr>\n",
              "      <th>15</th>\n",
              "      <td>South 24 Parganas</td>\n",
              "      <td>116.9631</td>\n",
              "      <td>27.10</td>\n",
              "      <td>79</td>\n",
              "      <td>9960</td>\n",
              "      <td>7.38</td>\n",
              "      <td>75.000000</td>\n",
              "      <td>1007.300000</td>\n",
              "      <td>2440.98</td>\n",
              "      <td>794.541</td>\n",
              "    </tr>\n",
              "    <tr>\n",
              "      <th>16</th>\n",
              "      <td>Medinipur</td>\n",
              "      <td>130.8080</td>\n",
              "      <td>30.75</td>\n",
              "      <td>76</td>\n",
              "      <td>4061</td>\n",
              "      <td>6.12</td>\n",
              "      <td>75.000000</td>\n",
              "      <td>1007.100000</td>\n",
              "      <td>2717.67</td>\n",
              "      <td>546.260</td>\n",
              "    </tr>\n",
              "  </tbody>\n",
              "</table>\n",
              "</div>"
            ],
            "text/plain": [
              "             District  Rainfall  ...  Yield_Rate(Kg/Hect)  Production\n",
              "0          Darjeeling  174.9025  ...              2098.58      56.945\n",
              "1          Jalpaiguri  195.2306  ...              2459.69     433.939\n",
              "2          Koch Bihar  177.3472  ...              2376.35     515.777\n",
              "3      Uttar Dinajpur  128.3008  ...              2592.39     466.273\n",
              "4    Dakshin Dinajpur  124.4917  ...              2829.67     462.884\n",
              "5              Maldah  114.9917  ...              3233.12     457.341\n",
              "6         Murshidabad  117.4706  ...              3081.66     686.341\n",
              "7               Nadia  120.3923  ...              2876.25     273.137\n",
              "8             Birbhum  115.0348  ...              3262.04    1029.374\n",
              "9           Bardhaman  118.0904  ...              3242.24    1361.138\n",
              "10            Bankura  117.6115  ...              2701.24     794.716\n",
              "11            Purulia  109.8540  ...              2141.85     597.889\n",
              "12              Hugli  128.4050  ...              3053.53     580.845\n",
              "13              Haora  133.5379  ...              2485.50     176.630\n",
              "14  North 24 Parganas  134.0477  ...              2873.51     401.623\n",
              "15  South 24 Parganas  116.9631  ...              2440.98     794.541\n",
              "16          Medinipur  130.8080  ...              2717.67     546.260\n",
              "\n",
              "[17 rows x 10 columns]"
            ]
          },
          "metadata": {
            "tags": []
          },
          "execution_count": 3
        }
      ]
    },
    {
      "cell_type": "markdown",
      "metadata": {
        "id": "KS_1J76ZKqrI",
        "colab_type": "text"
      },
      "source": [
        "## Showing correlation between dependent and independent variables"
      ]
    },
    {
      "cell_type": "code",
      "metadata": {
        "id": "y0bzzQ-IKr2_",
        "colab_type": "code",
        "colab": {}
      },
      "source": [
        "import matplotlib.pyplot as plt\n",
        "%matplotlib inline\n",
        "import seaborn as sb"
      ],
      "execution_count": 0,
      "outputs": []
    },
    {
      "cell_type": "code",
      "metadata": {
        "id": "QRO4SCwDK7zf",
        "colab_type": "code",
        "outputId": "3f4e4a2a-4324-421a-fa98-380d0b1017f8",
        "colab": {
          "base_uri": "https://localhost:8080/",
          "height": 376
        }
      },
      "source": [
        "sb.heatmap(df.corr(),annot=True)"
      ],
      "execution_count": 0,
      "outputs": [
        {
          "output_type": "execute_result",
          "data": {
            "text/plain": [
              "<matplotlib.axes._subplots.AxesSubplot at 0x7fda202daa90>"
            ]
          },
          "metadata": {
            "tags": []
          },
          "execution_count": 5
        },
        {
          "output_type": "display_data",
          "data": {
            "image/png": "[encoded data removed]",
            "text/plain": [
              "<Figure size 432x288 with 2 Axes>"
            ]
          },
          "metadata": {
            "tags": []
          }
        }
      ]
    },
    {
      "cell_type": "code",
      "metadata": {
        "id": "-qUZ_-gIMxzl",
        "colab_type": "code",
        "outputId": "39c9250d-2af3-4fc7-f7c7-abbc654ee9e9",
        "colab": {
          "base_uri": "https://localhost:8080/",
          "height": 295
        }
      },
      "source": [
        "plt.scatter(df['Area(sq km)'],df['Production'],color='red')\n",
        "plt.title(\"Area Vs Production\")\n",
        "plt.xlabel(\"Area\")\n",
        "plt.ylabel(\"Production\")\n",
        "plt.grid()\n",
        "plt.show()"
      ],
      "execution_count": 0,
      "outputs": [
        {
          "output_type": "display_data",
          "data": {
            "image/png": "[encoded data removed]",
            "text/plain": [
              "<Figure size 432x288 with 1 Axes>"
            ]
          },
          "metadata": {
            "tags": []
          }
        }
      ]
    },
    {
      "cell_type": "code",
      "metadata": {
        "id": "kl57xlLiVSjf",
        "colab_type": "code",
        "outputId": "e0b04fcd-cb65-4117-c27b-378fc3c45fc0",
        "colab": {
          "base_uri": "https://localhost:8080/",
          "height": 296
        }
      },
      "source": [
        "plt.scatter(df['Yield_Rate(Kg/Hect)'],df['Production'],color='red')\n",
        "plt.title(\"Yield_Rate Vs Production\")\n",
        "plt.xlabel(\"Yield_Rate\")\n",
        "plt.ylabel(\"Production\")\n",
        "plt.grid()\n",
        "plt.show()"
      ],
      "execution_count": 0,
      "outputs": [
        {
          "output_type": "display_data",
          "data": {
            "image/png": "[encoded data removed]",
            "text/plain": [
              "<Figure size 432x288 with 1 Axes>"
            ]
          },
          "metadata": {
            "tags": []
          }
        }
      ]
    },
    {
      "cell_type": "code",
      "metadata": {
        "id": "RnU3o7V7Nh2I",
        "colab_type": "code",
        "outputId": "12d17281-6be4-45af-cf5f-4a333cba4d6b",
        "colab": {
          "base_uri": "https://localhost:8080/",
          "height": 295
        }
      },
      "source": [
        "plt.scatter(df['Rainfall'],df['Production'],color='green')\n",
        "plt.title(\"Precipitation Vs Production\")\n",
        "plt.xlabel(\"Precipitation\")\n",
        "plt.ylabel(\"Production\")\n",
        "plt.grid()\n",
        "plt.show()"
      ],
      "execution_count": 0,
      "outputs": [
        {
          "output_type": "display_data",
          "data": {
            "image/png": "[encoded data removed]",
            "text/plain": [
              "<Figure size 432x288 with 1 Axes>"
            ]
          },
          "metadata": {
            "tags": []
          }
        }
      ]
    },
    {
      "cell_type": "code",
      "metadata": {
        "id": "5zTB87IVRp8o",
        "colab_type": "code",
        "outputId": "c6913d52-8ca7-4279-c1e5-d6213d24e2d9",
        "colab": {
          "base_uri": "https://localhost:8080/",
          "height": 295
        }
      },
      "source": [
        "plt.scatter(df['Humidity'],df['Production'],color='blue')\n",
        "plt.title(\"Humidity Vs Production\")\n",
        "plt.xlabel(\"Humidity\")\n",
        "plt.ylabel(\"Production\")\n",
        "plt.grid()\n",
        "plt.show()"
      ],
      "execution_count": 0,
      "outputs": [
        {
          "output_type": "display_data",
          "data": {
            "image/png": "[encoded data removed]",
            "text/plain": [
              "<Figure size 432x288 with 1 Axes>"
            ]
          },
          "metadata": {
            "tags": []
          }
        }
      ]
    },
    {
      "cell_type": "code",
      "metadata": {
        "id": "WaQXChkmSyW9",
        "colab_type": "code",
        "outputId": "a251d51a-0abc-4dbc-b33a-96b188816f52",
        "colab": {
          "base_uri": "https://localhost:8080/",
          "height": 296
        }
      },
      "source": [
        "plt.scatter(df['Soil_pH'],df['Production'],color='red')\n",
        "plt.title(\"Soil_pH Vs Production\")\n",
        "plt.xlabel(\"Soil_pH\")\n",
        "plt.ylabel(\"Production\")\n",
        "plt.grid()\n",
        "plt.show()"
      ],
      "execution_count": 0,
      "outputs": [
        {
          "output_type": "display_data",
          "data": {
            "image/png": "[encoded data removed]",
            "text/plain": [
              "<Figure size 432x288 with 1 Axes>"
            ]
          },
          "metadata": {
            "tags": []
          }
        }
      ]
    },
    {
      "cell_type": "code",
      "metadata": {
        "id": "WLXIOckYTEpr",
        "colab_type": "code",
        "outputId": "776e4e55-93e9-4b01-b09a-9c246dd5f003",
        "colab": {
          "base_uri": "https://localhost:8080/",
          "height": 296
        }
      },
      "source": [
        "plt.scatter(df['Cloud_Coverage'],df['Production'],color='red')\n",
        "plt.title(\"Cloud_Coverage Vs Production\")\n",
        "plt.xlabel(\"Cloud_Coverage\")\n",
        "plt.ylabel(\"Production\")\n",
        "plt.grid()\n",
        "plt.show()"
      ],
      "execution_count": 0,
      "outputs": [
        {
          "output_type": "display_data",
          "data": {
            "image/png": "[encoded data removed]",
            "text/plain": [
              "<Figure size 432x288 with 1 Axes>"
            ]
          },
          "metadata": {
            "tags": []
          }
        }
      ]
    },
    {
      "cell_type": "code",
      "metadata": {
        "id": "ZzaY8YG3TOwo",
        "colab_type": "code",
        "outputId": "68d6d51d-a44c-4184-8d05-e88de7f2fe37",
        "colab": {
          "base_uri": "https://localhost:8080/",
          "height": 296
        }
      },
      "source": [
        "plt.scatter(df['Vapour_Pressure'],df['Production'],color='red')\n",
        "plt.title(\"Vapour_Pressure Vs Production\")\n",
        "plt.xlabel(\"Vapour_Pressure\")\n",
        "plt.ylabel(\"Production\")\n",
        "plt.grid()\n",
        "plt.show()"
      ],
      "execution_count": 0,
      "outputs": [
        {
          "output_type": "display_data",
          "data": {
            "image/png": "[encoded data removed]",
            "text/plain": [
              "<Figure size 432x288 with 1 Axes>"
            ]
          },
          "metadata": {
            "tags": []
          }
        }
      ]
    },
    {
      "cell_type": "markdown",
      "metadata": {
        "id": "nTXD2JX4HefM",
        "colab_type": "text"
      },
      "source": [
        "**APPLYING LINEAR REGRESSION**"
      ]
    },
    {
      "cell_type": "code",
      "metadata": {
        "id": "CA9SCDWLE_SR",
        "colab_type": "code",
        "colab": {}
      },
      "source": [
        "from sklearn import linear_model\n",
        "from sklearn.model_selection import train_test_split\n",
        "from sklearn.metrics import r2_score,accuracy_score"
      ],
      "execution_count": 0,
      "outputs": []
    },
    {
      "cell_type": "code",
      "metadata": {
        "id": "-vqi3UsXO3oc",
        "colab_type": "code",
        "outputId": "3e0697aa-6755-4cc8-8f7b-2488ad5eaa61",
        "colab": {
          "base_uri": "https://localhost:8080/",
          "height": 162
        }
      },
      "source": [
        "X = df[['Rainfall']] \n",
        "Y = df['Production']\n",
        " \n",
        "x_train,x_test,y_train,y_test=train_test_split(X,Y, test_size=0.2, random_state=1)\n",
        "reg=linear_model.LinearRegression()\n",
        "reg.fit(x_train,y_train)\n",
        "  \n",
        "\n",
        "\n",
        "\n",
        "# prediction\n",
        "y_pred=reg.predict(x_test)\n",
        "print('Predicted Production:',y_pred,'\\n')\n",
        "\n",
        "# Coefficients\n",
        "print('\\nCoefficients: ', reg.coef_,'\\n')\n",
        "\n",
        "# R-squared score\n",
        "print('\\nR-squared score: ', r2_score(y_test,y_pred),'\\n')\n"
      ],
      "execution_count": 0,
      "outputs": [
        {
          "output_type": "stream",
          "text": [
            "Predicted Production: [647.30339918 610.43942914 702.97136563 302.06557282] \n",
            "\n",
            "\n",
            "Coefficients:  [-7.03900442] \n",
            "\n",
            "\n",
            "R-squared score:  -4.88414351845448 \n",
            "\n"
          ],
          "name": "stdout"
        }
      ]
    },
    {
      "cell_type": "code",
      "metadata": {
        "id": "hPCe5jD3O_xz",
        "colab_type": "code",
        "outputId": "d3f96d52-f653-46eb-85bc-5dd4e5b19710",
        "colab": {
          "base_uri": "https://localhost:8080/",
          "height": 162
        }
      },
      "source": [
        "X = df[['Temperature(avg)']] \n",
        "Y = df['Production']\n",
        " \n",
        "x_train,x_test,y_train,y_test=train_test_split(X,Y, test_size=0.2, random_state=1)\n",
        "reg=linear_model.LinearRegression()\n",
        "reg.fit(x_train,y_train)\n",
        "  \n",
        "\n",
        "\n",
        "\n",
        "# prediction\n",
        "y_pred=reg.predict(x_test)\n",
        "print('Predicted Production:',y_pred,'\\n')\n",
        "\n",
        "# Coefficients\n",
        "print('\\nCoefficients: ', reg.coef_,'\\n')\n",
        "\n",
        "# R-squared score\n",
        "print('\\nR-squared score: ', r2_score(y_test,y_pred),'\\n')\n"
      ],
      "execution_count": 0,
      "outputs": [
        {
          "output_type": "stream",
          "text": [
            "Predicted Production: [497.55422424 721.17872713 655.10785127 563.62510009] \n",
            "\n",
            "\n",
            "Coefficients:  [50.82375066] \n",
            "\n",
            "\n",
            "R-squared score:  -4.809974240175154 \n",
            "\n"
          ],
          "name": "stdout"
        }
      ]
    },
    {
      "cell_type": "code",
      "metadata": {
        "id": "CdoboUkaPt64",
        "colab_type": "code",
        "outputId": "84eda6b9-1a80-4b1c-8fa6-e40e4acf57fc",
        "colab": {
          "base_uri": "https://localhost:8080/",
          "height": 162
        }
      },
      "source": [
        "X = df[['Humidity']] \n",
        "Y = df['Production']\n",
        " \n",
        "x_train,x_test,y_train,y_test=train_test_split(X,Y, test_size=0.2, random_state=1)\n",
        "reg=linear_model.LinearRegression()\n",
        "reg.fit(x_train,y_train)\n",
        "  \n",
        "\n",
        "\n",
        "\n",
        "# prediction\n",
        "y_pred=reg.predict(x_test)\n",
        "print('Predicted Production:',y_pred,'\\n')\n",
        "\n",
        "# Coefficients\n",
        "print('\\nCoefficients: ', reg.coef_,'\\n')\n",
        "\n",
        "# R-squared score\n",
        "print('\\nR-squared score: ', r2_score(y_test,y_pred),'\\n')\n"
      ],
      "execution_count": 0,
      "outputs": [
        {
          "output_type": "stream",
          "text": [
            "Predicted Production: [760.87611224 813.06848726 552.10661214 343.33711205] \n",
            "\n",
            "\n",
            "Coefficients:  [-17.39745834] \n",
            "\n",
            "\n",
            "R-squared score:  -6.813554513914552 \n",
            "\n"
          ],
          "name": "stdout"
        }
      ]
    },
    {
      "cell_type": "code",
      "metadata": {
        "id": "Ex7_ZlCRP2dW",
        "colab_type": "code",
        "outputId": "1be067e3-bc0b-4cb0-edad-2678928c768d",
        "colab": {
          "base_uri": "https://localhost:8080/",
          "height": 162
        }
      },
      "source": [
        "X = df[['Area(sq km)']] \n",
        "Y = df['Production']\n",
        " \n",
        "x_train,x_test,y_train,y_test=train_test_split(X,Y, test_size=0.2, random_state=1)\n",
        "reg=linear_model.LinearRegression()\n",
        "reg.fit(x_train,y_train)\n",
        "  \n",
        "\n",
        "\n",
        "\n",
        "# prediction\n",
        "y_pred=reg.predict(x_test)\n",
        "print('Predicted Production:',y_pred,'\\n')\n",
        "\n",
        "# Coefficients\n",
        "print('\\nCoefficients: ', reg.coef_,'\\n')\n",
        "\n",
        "# R-squared score\n",
        "print('\\nR-squared score: ', r2_score(y_test,y_pred),'\\n')\n"
      ],
      "execution_count": 0,
      "outputs": [
        {
          "output_type": "stream",
          "text": [
            "Predicted Production: [405.93058509 337.46933763 534.90740182 491.56733895] \n",
            "\n",
            "\n",
            "Coefficients:  [0.08025938] \n",
            "\n",
            "\n",
            "R-squared score:  -0.2855683989290081 \n",
            "\n"
          ],
          "name": "stdout"
        }
      ]
    },
    {
      "cell_type": "code",
      "metadata": {
        "id": "7OtMkQS_P-6t",
        "colab_type": "code",
        "outputId": "4d239007-15e5-4c00-e2c6-66f2bafe3ecf",
        "colab": {
          "base_uri": "https://localhost:8080/",
          "height": 162
        }
      },
      "source": [
        "X = df[['Soil_pH']] \n",
        "Y = df['Production']\n",
        " \n",
        "x_train,x_test,y_train,y_test=train_test_split(X,Y, test_size=0.2, random_state=1)\n",
        "reg=linear_model.LinearRegression()\n",
        "reg.fit(x_train,y_train)\n",
        "  \n",
        "\n",
        "\n",
        "\n",
        "# prediction\n",
        "y_pred=reg.predict(x_test)\n",
        "print('Predicted Production:',y_pred,'\\n')\n",
        "\n",
        "# Coefficients\n",
        "print('\\nCoefficients: ', reg.coef_,'\\n')\n",
        "\n",
        "# R-squared score\n",
        "print('\\nR-squared score: ', r2_score(y_test,y_pred),'\\n')\n"
      ],
      "execution_count": 0,
      "outputs": [
        {
          "output_type": "stream",
          "text": [
            "Predicted Production: [587.94642473 608.27107567 606.13163873 520.5541611 ] \n",
            "\n",
            "\n",
            "Coefficients:  [106.97184703] \n",
            "\n",
            "\n",
            "R-squared score:  -3.0674328541224467 \n",
            "\n"
          ],
          "name": "stdout"
        }
      ]
    },
    {
      "cell_type": "code",
      "metadata": {
        "id": "BKfd-ocoQKIz",
        "colab_type": "code",
        "outputId": "d06d422d-fb7f-4d72-e5bf-800d880fa429",
        "colab": {
          "base_uri": "https://localhost:8080/",
          "height": 162
        }
      },
      "source": [
        "X = df[['Vapour_Pressure']] \n",
        "Y = df['Production']\n",
        " \n",
        "x_train,x_test,y_train,y_test=train_test_split(X,Y, test_size=0.2, random_state=1)\n",
        "reg=linear_model.LinearRegression()\n",
        "reg.fit(x_train,y_train)\n",
        "  \n",
        "\n",
        "\n",
        "\n",
        "# prediction\n",
        "y_pred=reg.predict(x_test)\n",
        "print('Predicted Production:',y_pred,'\\n')\n",
        "\n",
        "# Coefficients\n",
        "print('\\nCoefficients: ', reg.coef_,'\\n')\n",
        "\n",
        "# R-squared score\n",
        "print('\\nR-squared score: ', r2_score(y_test,y_pred),'\\n')\n"
      ],
      "execution_count": 0,
      "outputs": [
        {
          "output_type": "stream",
          "text": [
            "Predicted Production: [484.27447857 705.60440052 484.27447857 706.64000883] \n",
            "\n",
            "\n",
            "Coefficients:  [0.60918136] \n",
            "\n",
            "\n",
            "R-squared score:  -3.7077250018458017 \n",
            "\n"
          ],
          "name": "stdout"
        }
      ]
    },
    {
      "cell_type": "code",
      "metadata": {
        "id": "eKmRGaB_QXVs",
        "colab_type": "code",
        "outputId": "4827c3ab-95ca-4c09-fa45-bab8802c0a31",
        "colab": {
          "base_uri": "https://localhost:8080/",
          "height": 162
        }
      },
      "source": [
        "X = df[['Cloud_Coverage']] \n",
        "Y = df['Production']\n",
        " \n",
        "x_train,x_test,y_train,y_test=train_test_split(X,Y, test_size=0.2, random_state=1)\n",
        "reg=linear_model.LinearRegression()\n",
        "reg.fit(x_train,y_train)\n",
        "  \n",
        "\n",
        "\n",
        "\n",
        "# prediction\n",
        "y_pred=reg.predict(x_test)\n",
        "print('Predicted Production:',y_pred,'\\n')\n",
        "\n",
        "# Coefficients\n",
        "print('\\nCoefficients: ', reg.coef_,'\\n')\n",
        "\n",
        "# R-squared score\n",
        "print('\\nR-squared score: ', r2_score(y_test,y_pred),'\\n')\n"
      ],
      "execution_count": 0,
      "outputs": [
        {
          "output_type": "stream",
          "text": [
            "Predicted Production: [552.87482151 751.00712652 552.87482151 756.42231813] \n",
            "\n",
            "\n",
            "Coefficients:  [5.41519162] \n",
            "\n",
            "\n",
            "R-squared score:  -5.173266258739897 \n",
            "\n"
          ],
          "name": "stdout"
        }
      ]
    },
    {
      "cell_type": "code",
      "metadata": {
        "id": "wBUvGcgGQkKt",
        "colab_type": "code",
        "outputId": "3e1d75ba-95c5-49ac-d1f0-005c9fa97433",
        "colab": {
          "base_uri": "https://localhost:8080/",
          "height": 162
        }
      },
      "source": [
        "X = df[['Yield_Rate(Kg/Hect)']] \n",
        "Y = df['Production']\n",
        " \n",
        "x_train,x_test,y_train,y_test=train_test_split(X,Y, test_size=0.2, random_state=1)\n",
        "reg=linear_model.LinearRegression()\n",
        "reg.fit(x_train,y_train)\n",
        "  \n",
        "\n",
        "\n",
        "\n",
        "# prediction\n",
        "y_pred=reg.predict(x_test)\n",
        "print('Predicted Production:',y_pred,'\\n')\n",
        "\n",
        "# Coefficients\n",
        "print('\\nCoefficients: ', reg.coef_,'\\n')\n",
        "\n",
        "# R-squared score\n",
        "print('\\nR-squared score: ', r2_score(y_test,y_pred),'\\n')\n"
      ],
      "execution_count": 0,
      "outputs": [
        {
          "output_type": "stream",
          "text": [
            "Predicted Production: [549.79960912 503.41914197 672.96884298 456.05804186] \n",
            "\n",
            "\n",
            "Coefficients:  [0.43390838] \n",
            "\n",
            "\n",
            "R-squared score:  -2.6134445413054923 \n",
            "\n"
          ],
          "name": "stdout"
        }
      ]
    },
    {
      "cell_type": "code",
      "metadata": {
        "id": "jJoJfeyXHoDa",
        "colab_type": "code",
        "outputId": "78f2103f-02e2-45e6-9c2b-a1b3e1fd3330",
        "colab": {
          "base_uri": "https://localhost:8080/",
          "height": 181
        }
      },
      "source": [
        "X = df[['Rainfall'\t,'Temperature(avg)'\t,'Humidity','Area(sq km)' ,'Soil_pH','Vapour_Pressure','Cloud_Coverage','Yield_Rate(Kg/Hect)']] \n",
        "Y = df['Production']\n",
        " \n",
        "x_train,x_test,y_train,y_test=train_test_split(X,Y, test_size=0.2, random_state=1)\n",
        "reg=linear_model.LinearRegression()\n",
        "reg.fit(x_train,y_train)\n",
        "  \n",
        "\n",
        "\n",
        "\n",
        "# prediction\n",
        "y_pred=reg.predict(x_test)\n",
        "print('Predicted Production:',y_pred,'\\n')\n",
        "\n",
        "# Coefficients\n",
        "print('\\nCoefficients: ', reg.coef_,'\\n')\n",
        "\n",
        "# R-squared score\n",
        "print('\\nR-squared score: ', r2_score(y_test,y_pred),'\\n')\n",
        "\n"
      ],
      "execution_count": 0,
      "outputs": [
        {
          "output_type": "stream",
          "text": [
            "Predicted Production: [450.40988015 188.3962385  642.97631497 109.21217113] \n",
            "\n",
            "\n",
            "Coefficients:  [-6.13178494e+00 -1.60919652e+01 -7.53097395e+00  1.14648195e-01\n",
            " -2.09391956e+02 -3.71071540e-01  3.87565540e+00  4.78006679e-01] \n",
            "\n",
            "\n",
            "R-squared score:  -2.9428063014530603 \n",
            "\n"
          ],
          "name": "stdout"
        }
      ]
    },
    {
      "cell_type": "code",
      "metadata": {
        "id": "W-NOFEoNOGEC",
        "colab_type": "code",
        "outputId": "2dd7a0ee-3297-41cd-963b-862c924d498b",
        "colab": {
          "base_uri": "https://localhost:8080/",
          "height": 181
        }
      },
      "source": [
        "X = df[['Rainfall'\t,'Temperature(avg)'\t,'Humidity','Area(sq km)' ,'Soil_pH','Cloud_Coverage','Yield_Rate(Kg/Hect)']] \n",
        "Y = df['Production']\n",
        " \n",
        "x_train,x_test,y_train,y_test=train_test_split(X,Y, test_size=0.2, random_state=1)\n",
        "reg=linear_model.LinearRegression()\n",
        "reg.fit(x_train,y_train)\n",
        "  \n",
        "\n",
        "\n",
        "\n",
        "# prediction\n",
        "y_pred=reg.predict(x_test)\n",
        "print('Predicted Production:',y_pred,'\\n')\n",
        "\n",
        "# Coefficients\n",
        "print('\\nCoefficients: ', reg.coef_,'\\n')\n",
        "\n",
        "# R-squared score\n",
        "print('\\nR-squared score: ', r2_score(y_test,y_pred),'\\n')\n"
      ],
      "execution_count": 0,
      "outputs": [
        {
          "output_type": "stream",
          "text": [
            "Predicted Production: [397.42115601 257.63075881 568.85269496 133.98634767] \n",
            "\n",
            "\n",
            "Coefficients:  [-5.31365544e+00 -1.02801799e+01 -7.86395180e+00  1.03900679e-01\n",
            " -1.61958501e+02  1.99073876e+00  4.09388530e-01] \n",
            "\n",
            "\n",
            "R-squared score:  -2.1873636821752007 \n",
            "\n"
          ],
          "name": "stdout"
        }
      ]
    },
    {
      "cell_type": "markdown",
      "metadata": {
        "id": "niHG9G5gdLdM",
        "colab_type": "text"
      },
      "source": [
        "\n",
        "**Regression (Predicting Production for each District without taking that District as training data) :**\n"
      ]
    },
    {
      "cell_type": "code",
      "metadata": {
        "id": "UL1bl0EhUsb_",
        "colab_type": "code",
        "colab": {
          "base_uri": "https://localhost:8080/",
          "height": 635
        },
        "outputId": "cf491d55-e522-4d67-9f1e-963209d4bbdf"
      },
      "source": [
        "error=[]\n",
        "for i in range(0,17):\n",
        "  A_test=df[['Rainfall'\t,'Temperature(avg)'\t,'Humidity','Area(sq km)' ,'Soil_pH','Cloud_Coverage','Yield_Rate(Kg/Hect)']].iloc[df.index==i]\n",
        "  b_test=df.iloc[df.index==i]['Production']\n",
        "  A_train=df[['Rainfall'\t,'Temperature(avg)'\t,'Humidity','Area(sq km)' ,'Soil_pH','Cloud_Coverage','Yield_Rate(Kg/Hect)']].drop([i],axis=0)\n",
        "  b_train=df.drop([i])['Production']\n",
        "\n",
        "  reg=linear_model.LinearRegression()\n",
        "  reg.fit(A_train,b_train)\n",
        "  # prediction\n",
        "  b_pred=reg.predict(A_test)\n",
        "  print('~ District:',df.at[i,'District'],'-\\n','Predicted Production:',b_pred,', ','Actual Production:',[df.loc[i,'Production']],', ','Error: ',b_pred-df.loc[i,'Production'])\n",
        "  error.append(float(b_pred-df.loc[i,'Production']))\n",
        "  "
      ],
      "execution_count": 45,
      "outputs": [
        {
          "output_type": "stream",
          "text": [
            "~ District: Darjeeling -\n",
            " Predicted Production: [-156.47047802] ,  Actual Production: [56.945] ,  Error:  [-213.41547802]\n",
            "~ District: Jalpaiguri -\n",
            " Predicted Production: [1116.41631556] ,  Actual Production: [433.939] ,  Error:  [682.47731556]\n",
            "~ District: Koch Bihar -\n",
            " Predicted Production: [53.07888105] ,  Actual Production: [515.777] ,  Error:  [-462.69811895]\n",
            "~ District: Uttar Dinajpur -\n",
            " Predicted Production: [292.08064678] ,  Actual Production: [466.273] ,  Error:  [-174.19235322]\n",
            "~ District: Dakshin Dinajpur -\n",
            " Predicted Production: [415.80346347] ,  Actual Production: [462.884] ,  Error:  [-47.08053653]\n",
            "~ District: Maldah -\n",
            " Predicted Production: [774.01235016] ,  Actual Production: [457.341] ,  Error:  [316.67135016]\n",
            "~ District: Murshidabad -\n",
            " Predicted Production: [611.69632753] ,  Actual Production: [686.341] ,  Error:  [-74.64467247]\n",
            "~ District: Nadia -\n",
            " Predicted Production: [610.65304889] ,  Actual Production: [273.137] ,  Error:  [337.51604889]\n",
            "~ District: Birbhum -\n",
            " Predicted Production: [834.69938927] ,  Actual Production: [1029.374] ,  Error:  [-194.67461073]\n",
            "~ District: Bardhaman -\n",
            " Predicted Production: [898.36150321] ,  Actual Production: [1361.138] ,  Error:  [-462.77649679]\n",
            "~ District: Bankura -\n",
            " Predicted Production: [866.36611952] ,  Actual Production: [794.716] ,  Error:  [71.65011952]\n",
            "~ District: Purulia -\n",
            " Predicted Production: [39.25857272] ,  Actual Production: [597.889] ,  Error:  [-558.63042728]\n",
            "~ District: Hugli -\n",
            " Predicted Production: [675.34848581] ,  Actual Production: [580.845] ,  Error:  [94.50348581]\n",
            "~ District: Haora -\n",
            " Predicted Production: [406.24943551] ,  Actual Production: [176.63] ,  Error:  [229.61943551]\n",
            "~ District: North 24 Parganas -\n",
            " Predicted Production: [695.76745106] ,  Actual Production: [401.623] ,  Error:  [294.14445106]\n",
            "~ District: South 24 Parganas -\n",
            " Predicted Production: [1367.49932427] ,  Actual Production: [794.541] ,  Error:  [572.95832427]\n",
            "~ District: Medinipur -\n",
            " Predicted Production: [609.49171315] ,  Actual Production: [546.26] ,  Error:  [63.23171315]\n"
          ],
          "name": "stdout"
        }
      ]
    },
    {
      "cell_type": "markdown",
      "metadata": {
        "id": "3E84hLzLdamp",
        "colab_type": "text"
      },
      "source": [
        "**Mean Squared Error:**"
      ]
    },
    {
      "cell_type": "code",
      "metadata": {
        "id": "zt38hu14anKP",
        "colab_type": "code",
        "colab": {
          "base_uri": "https://localhost:8080/",
          "height": 92
        },
        "outputId": "9abff501-81f5-4419-d9f5-384f8b0b9ac2"
      },
      "source": [
        "import math\n",
        "print(list(error))\n",
        "\n",
        "total_error=0\n",
        "for i in error:\n",
        "  total_error=total_error+(i*i)\n",
        "  \n",
        "mean_squared_error=math.sqrt(total_error)/13\n",
        "\n",
        "print(\"\\nMean Squared Error: \",mean_squared_error)"
      ],
      "execution_count": 46,
      "outputs": [
        {
          "output_type": "stream",
          "text": [
            "[-213.4154780165549, 682.4773155594437, -462.69811894909776, -174.19235321687358, -47.08053653056277, 316.671350160482, -74.64467246727747, 337.51604889306867, -194.67461073413608, -462.77649678647765, 71.65011951838198, -558.6304272828269, 94.50348581085302, 229.61943550917044, 294.1444510608547, 572.958324272057, 63.231713145027015]\n",
            "\n",
            "Mean Squared Error:  109.52988935690381\n"
          ],
          "name": "stdout"
        }
      ]
    }
  ]
}